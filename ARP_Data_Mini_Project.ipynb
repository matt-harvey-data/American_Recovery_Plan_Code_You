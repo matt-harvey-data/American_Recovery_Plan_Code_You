{
 "cells": [
  {
   "cell_type": "code",
   "execution_count": 167,
   "id": "dc1b6c28",
   "metadata": {},
   "outputs": [],
   "source": [
    "import pandas as pd\n",
    "import datetime\n",
    "import plotly.express as px\n",
    "import matplotlib.pyplot as plt\n",
    "import seaborn as sns"
   ]
  },
  {
   "cell_type": "code",
   "execution_count": 168,
   "id": "285127e3",
   "metadata": {},
   "outputs": [
    {
     "data": {
      "text/plain": [
       "Index(['Entry Id', 'Name', 'Last', 'Full Email', 'Phone Number', 'Zip Code',\n",
       "       'Organization',\n",
       "       'Support public health expenditures\\n By funding COVID-19 mitigation efforts, medical expenses, behavioral healthcare, and certain public health and safety staff. \\n\\nAddress negative economic impacts caused by the public health emergency\\nIncluding economic harms to workers, households, small businesses, impacted industries, and the public sector.\\n\\nReplace lost public sector revenue\\nUsing this funding to provide government services to the extent of the reduction in revenue experienced due to the pandemic.\\n\\nProvide premium pay for essential workers\\nOffering additional support to those who have borne and will bear the greatest health risks because of their service in critical infrastructure sectors.\\n\\nInvest in water, sewer, and broadband infrastructure\\nMaking necessary investments to improve access to clean drinking water, support vital wastewater and storm water infrastructure, and to expand access to broadband internet.\\n',\n",
       "       'Comments:', 'Date Created', 'Created By', 'Last Updated', 'Updated By',\n",
       "       'IP Address', 'Last Page Accessed', 'Completion Status'],\n",
       "      dtype='object')"
      ]
     },
     "execution_count": 168,
     "metadata": {},
     "output_type": "execute_result"
    }
   ],
   "source": [
    "# Read in dataset covering proposals for American Rescue Plan Funding for Louisville, Kentucky and provided by\n",
    "# the Louisville Metro Open Data Portal\n",
    "df = pd.read_excel('ARP_Comment_Form_Redacted_FULL_0_(1).xlsx')\n",
    "\n",
    "# Display column names\n",
    "df.columns"
   ]
  },
  {
   "cell_type": "code",
   "execution_count": 169,
   "id": "bd47f96a",
   "metadata": {},
   "outputs": [],
   "source": [
    "# Replace column names with more human parseable values\n",
    "df.columns = ['Entry Id', 'Name', 'Last', 'Full Email', 'Phone Number', 'Zip Code',\n",
    "       'Organization',\n",
    "       'Social Benefit',\n",
    "       'Comments:', 'Date Created', 'Created By', 'Last Updated', 'Updated By',\n",
    "       'IP Address', 'Last Page Accessed', 'Completion Status']"
   ]
  },
  {
   "cell_type": "code",
   "execution_count": 170,
   "id": "130a0def",
   "metadata": {},
   "outputs": [
    {
     "data": {
      "text/plain": [
       "Index(['Entry Id', 'Name', 'Last', 'Full Email', 'Phone Number', 'Zip Code',\n",
       "       'Organization', 'Social Benefit', 'Comments:', 'Date Created',\n",
       "       'Created By', 'Last Updated', 'Updated By', 'IP Address',\n",
       "       'Last Page Accessed', 'Completion Status'],\n",
       "      dtype='object')"
      ]
     },
     "execution_count": 170,
     "metadata": {},
     "output_type": "execute_result"
    }
   ],
   "source": [
    "# Sanity check\n",
    "df.columns"
   ]
  },
  {
   "cell_type": "code",
   "execution_count": 171,
   "id": "64638808",
   "metadata": {},
   "outputs": [
    {
     "data": {
      "text/html": [
       "<div>\n",
       "<style scoped>\n",
       "    .dataframe tbody tr th:only-of-type {\n",
       "        vertical-align: middle;\n",
       "    }\n",
       "\n",
       "    .dataframe tbody tr th {\n",
       "        vertical-align: top;\n",
       "    }\n",
       "\n",
       "    .dataframe thead th {\n",
       "        text-align: right;\n",
       "    }\n",
       "</style>\n",
       "<table border=\"1\" class=\"dataframe\">\n",
       "  <thead>\n",
       "    <tr style=\"text-align: right;\">\n",
       "      <th></th>\n",
       "      <th>Entry Id</th>\n",
       "      <th>Name</th>\n",
       "      <th>Last</th>\n",
       "      <th>Full Email</th>\n",
       "      <th>Phone Number</th>\n",
       "      <th>Zip Code</th>\n",
       "      <th>Organization</th>\n",
       "      <th>Social Benefit</th>\n",
       "      <th>Comments:</th>\n",
       "      <th>Date Created</th>\n",
       "      <th>Created By</th>\n",
       "      <th>Last Updated</th>\n",
       "      <th>Updated By</th>\n",
       "      <th>IP Address</th>\n",
       "      <th>Last Page Accessed</th>\n",
       "      <th>Completion Status</th>\n",
       "    </tr>\n",
       "  </thead>\n",
       "  <tbody>\n",
       "    <tr>\n",
       "      <th>0</th>\n",
       "      <td>14</td>\n",
       "      <td>Marty</td>\n",
       "      <td>Merkel</td>\n",
       "      <td>mmerkel@jrarchitects.com</td>\n",
       "      <td>5025834697</td>\n",
       "      <td>40206</td>\n",
       "      <td>NaN</td>\n",
       "      <td>Address negative economic impacts caused by th...</td>\n",
       "      <td>Fund LRDA, Louisville Downtown Residents Assoc...</td>\n",
       "      <td>2021-06-10 22:14:00</td>\n",
       "      <td>public</td>\n",
       "      <td>NaN</td>\n",
       "      <td>NaN</td>\n",
       "      <td>[IP ADDRESS REDACTED]</td>\n",
       "      <td>1</td>\n",
       "      <td>1</td>\n",
       "    </tr>\n",
       "  </tbody>\n",
       "</table>\n",
       "</div>"
      ],
      "text/plain": [
       "   Entry Id   Name    Last                Full Email Phone Number Zip Code  \\\n",
       "0        14  Marty  Merkel  mmerkel@jrarchitects.com   5025834697    40206   \n",
       "\n",
       "  Organization                                     Social Benefit  \\\n",
       "0          NaN  Address negative economic impacts caused by th...   \n",
       "\n",
       "                                           Comments:        Date Created  \\\n",
       "0  Fund LRDA, Louisville Downtown Residents Assoc... 2021-06-10 22:14:00   \n",
       "\n",
       "  Created By  Last Updated  Updated By             IP Address  \\\n",
       "0     public           NaN         NaN  [IP ADDRESS REDACTED]   \n",
       "\n",
       "   Last Page Accessed  Completion Status  \n",
       "0                   1                  1  "
      ]
     },
     "execution_count": 171,
     "metadata": {},
     "output_type": "execute_result"
    }
   ],
   "source": [
    "# Display a Datafram Row to assess 'the lay of the land.'\n",
    "df.head(1)"
   ]
  },
  {
   "cell_type": "code",
   "execution_count": 172,
   "id": "6e91b49c",
   "metadata": {},
   "outputs": [
    {
     "data": {
      "text/plain": [
       "(1337, 16)"
      ]
     },
     "execution_count": 172,
     "metadata": {},
     "output_type": "execute_result"
    }
   ],
   "source": [
    "# Find number of rows and columns in the dataset\n",
    "df.shape"
   ]
  },
  {
   "cell_type": "code",
   "execution_count": 173,
   "id": "671b02c0",
   "metadata": {},
   "outputs": [
    {
     "name": "stdout",
     "output_type": "stream",
     "text": [
      "<class 'pandas.core.frame.DataFrame'>\n",
      "RangeIndex: 1337 entries, 0 to 1336\n",
      "Data columns (total 16 columns):\n",
      " #   Column              Non-Null Count  Dtype         \n",
      "---  ------              --------------  -----         \n",
      " 0   Entry Id            1337 non-null   int64         \n",
      " 1   Name                1337 non-null   object        \n",
      " 2   Last                1337 non-null   object        \n",
      " 3   Full Email          1337 non-null   object        \n",
      " 4   Phone Number        1232 non-null   object        \n",
      " 5   Zip Code            1336 non-null   object        \n",
      " 6   Organization        775 non-null    object        \n",
      " 7   Social Benefit      1235 non-null   object        \n",
      " 8   Comments:           794 non-null    object        \n",
      " 9   Date Created        1337 non-null   datetime64[ns]\n",
      " 10  Created By          1337 non-null   object        \n",
      " 11  Last Updated        0 non-null      float64       \n",
      " 12  Updated By          0 non-null      float64       \n",
      " 13  IP Address          1337 non-null   object        \n",
      " 14  Last Page Accessed  1337 non-null   int64         \n",
      " 15  Completion Status   1337 non-null   int64         \n",
      "dtypes: datetime64[ns](1), float64(2), int64(3), object(10)\n",
      "memory usage: 167.3+ KB\n"
     ]
    }
   ],
   "source": [
    "# Find count of non-null values and datatype of each DataFrame column\n",
    "df.info()"
   ]
  },
  {
   "cell_type": "code",
   "execution_count": 174,
   "id": "54351b7d",
   "metadata": {},
   "outputs": [
    {
     "data": {
      "text/plain": [
       "Entry Id                 0\n",
       "Name                     0\n",
       "Last                     0\n",
       "Full Email               0\n",
       "Phone Number           105\n",
       "Zip Code                 1\n",
       "Organization           562\n",
       "Social Benefit         102\n",
       "Comments:              543\n",
       "Date Created             0\n",
       "Created By               0\n",
       "Last Updated          1337\n",
       "Updated By            1337\n",
       "IP Address               0\n",
       "Last Page Accessed       0\n",
       "Completion Status        0\n",
       "dtype: int64"
      ]
     },
     "execution_count": 174,
     "metadata": {},
     "output_type": "execute_result"
    }
   ],
   "source": [
    "# Find the count of NULL values in each DataFrame column\n",
    "df.isna().sum()"
   ]
  },
  {
   "cell_type": "code",
   "execution_count": 175,
   "id": "4b85b1e2",
   "metadata": {},
   "outputs": [],
   "source": [
    "# Drop any columns that contain no valid values aka 1337 NULLs\n",
    "df.drop(['Last Updated', 'Updated By'], axis=1, inplace=True)"
   ]
  },
  {
   "cell_type": "code",
   "execution_count": 176,
   "id": "bc75169c",
   "metadata": {},
   "outputs": [
    {
     "data": {
      "text/plain": [
       "Entry Id                0\n",
       "Name                    0\n",
       "Last                    0\n",
       "Full Email              0\n",
       "Phone Number          105\n",
       "Zip Code                1\n",
       "Organization          562\n",
       "Social Benefit        102\n",
       "Comments:             543\n",
       "Date Created            0\n",
       "Created By              0\n",
       "IP Address              0\n",
       "Last Page Accessed      0\n",
       "Completion Status       0\n",
       "dtype: int64"
      ]
     },
     "execution_count": 176,
     "metadata": {},
     "output_type": "execute_result"
    }
   ],
   "source": [
    "# Find the count of NULL values in each DataFrame column (Sanity check)\n",
    "df.isna().sum()"
   ]
  },
  {
   "cell_type": "code",
   "execution_count": 177,
   "id": "74a1d38e",
   "metadata": {},
   "outputs": [
    {
     "data": {
      "text/html": [
       "<div>\n",
       "<style scoped>\n",
       "    .dataframe tbody tr th:only-of-type {\n",
       "        vertical-align: middle;\n",
       "    }\n",
       "\n",
       "    .dataframe tbody tr th {\n",
       "        vertical-align: top;\n",
       "    }\n",
       "\n",
       "    .dataframe thead th {\n",
       "        text-align: right;\n",
       "    }\n",
       "</style>\n",
       "<table border=\"1\" class=\"dataframe\">\n",
       "  <thead>\n",
       "    <tr style=\"text-align: right;\">\n",
       "      <th></th>\n",
       "      <th>Entry Id</th>\n",
       "      <th>Name</th>\n",
       "      <th>Last</th>\n",
       "      <th>Full Email</th>\n",
       "      <th>Phone Number</th>\n",
       "      <th>Zip Code</th>\n",
       "      <th>Organization</th>\n",
       "      <th>Social Benefit</th>\n",
       "      <th>Comments:</th>\n",
       "      <th>Date Created</th>\n",
       "      <th>Created By</th>\n",
       "      <th>IP Address</th>\n",
       "      <th>Last Page Accessed</th>\n",
       "      <th>Completion Status</th>\n",
       "    </tr>\n",
       "  </thead>\n",
       "  <tbody>\n",
       "    <tr>\n",
       "      <th>38</th>\n",
       "      <td>135</td>\n",
       "      <td>Erin</td>\n",
       "      <td>Fulkerson</td>\n",
       "      <td>efulkerson@sevencounties.org</td>\n",
       "      <td>NaN</td>\n",
       "      <td>40207</td>\n",
       "      <td>Seven Counties Services/ Bellewood &amp; Brooklawn</td>\n",
       "      <td>Address negative economic impacts caused by th...</td>\n",
       "      <td>Please consider the following for Seven Counti...</td>\n",
       "      <td>2021-07-02 08:37:00</td>\n",
       "      <td>public</td>\n",
       "      <td>[IP ADDRESS REDACTED]</td>\n",
       "      <td>1</td>\n",
       "      <td>1</td>\n",
       "    </tr>\n",
       "    <tr>\n",
       "      <th>43</th>\n",
       "      <td>142</td>\n",
       "      <td>Caitlin</td>\n",
       "      <td>Osterhoudt</td>\n",
       "      <td>costerhoudt@sevencounties.org</td>\n",
       "      <td>NaN</td>\n",
       "      <td>40203</td>\n",
       "      <td>NaN</td>\n",
       "      <td>Address negative economic impacts caused by th...</td>\n",
       "      <td>NaN</td>\n",
       "      <td>2021-07-02 09:10:00</td>\n",
       "      <td>public</td>\n",
       "      <td>[IP ADDRESS REDACTED]</td>\n",
       "      <td>1</td>\n",
       "      <td>1</td>\n",
       "    </tr>\n",
       "    <tr>\n",
       "      <th>45</th>\n",
       "      <td>144</td>\n",
       "      <td>Zahjona</td>\n",
       "      <td>Henry</td>\n",
       "      <td>zhenry@sevencoutnies.org</td>\n",
       "      <td>NaN</td>\n",
       "      <td>42101</td>\n",
       "      <td>Seven Counties Services: Bellewood</td>\n",
       "      <td>Address negative economic impacts caused by th...</td>\n",
       "      <td>I honestly think each category should get some...</td>\n",
       "      <td>2021-07-02 09:17:00</td>\n",
       "      <td>public</td>\n",
       "      <td>[IP ADDRESS REDACTED]</td>\n",
       "      <td>1</td>\n",
       "      <td>1</td>\n",
       "    </tr>\n",
       "  </tbody>\n",
       "</table>\n",
       "</div>"
      ],
      "text/plain": [
       "    Entry Id     Name        Last                     Full Email Phone Number  \\\n",
       "38       135     Erin   Fulkerson   efulkerson@sevencounties.org          NaN   \n",
       "43       142  Caitlin  Osterhoudt  costerhoudt@sevencounties.org          NaN   \n",
       "45       144  Zahjona       Henry       zhenry@sevencoutnies.org          NaN   \n",
       "\n",
       "   Zip Code                                    Organization  \\\n",
       "38    40207  Seven Counties Services/ Bellewood & Brooklawn   \n",
       "43    40203                                             NaN   \n",
       "45    42101              Seven Counties Services: Bellewood   \n",
       "\n",
       "                                       Social Benefit  \\\n",
       "38  Address negative economic impacts caused by th...   \n",
       "43  Address negative economic impacts caused by th...   \n",
       "45  Address negative economic impacts caused by th...   \n",
       "\n",
       "                                            Comments:        Date Created  \\\n",
       "38  Please consider the following for Seven Counti... 2021-07-02 08:37:00   \n",
       "43                                                NaN 2021-07-02 09:10:00   \n",
       "45  I honestly think each category should get some... 2021-07-02 09:17:00   \n",
       "\n",
       "   Created By             IP Address  Last Page Accessed  Completion Status  \n",
       "38     public  [IP ADDRESS REDACTED]                   1                  1  \n",
       "43     public  [IP ADDRESS REDACTED]                   1                  1  \n",
       "45     public  [IP ADDRESS REDACTED]                   1                  1  "
      ]
     },
     "execution_count": 177,
     "metadata": {},
     "output_type": "execute_result"
    }
   ],
   "source": [
    "# Find the first three NULL values in the Phone Number column\n",
    "df[df['Phone Number'].isna() == True].head(3)"
   ]
  },
  {
   "cell_type": "code",
   "execution_count": 178,
   "id": "ced07e7c",
   "metadata": {},
   "outputs": [],
   "source": [
    "df.fillna({'Phone Number':'5028675309'}, inplace=True)"
   ]
  },
  {
   "cell_type": "code",
   "execution_count": 179,
   "id": "af26ee50",
   "metadata": {},
   "outputs": [
    {
     "data": {
      "text/plain": [
       "Entry Id                0\n",
       "Name                    0\n",
       "Last                    0\n",
       "Full Email              0\n",
       "Phone Number            0\n",
       "Zip Code                1\n",
       "Organization          562\n",
       "Social Benefit        102\n",
       "Comments:             543\n",
       "Date Created            0\n",
       "Created By              0\n",
       "IP Address              0\n",
       "Last Page Accessed      0\n",
       "Completion Status       0\n",
       "dtype: int64"
      ]
     },
     "execution_count": 179,
     "metadata": {},
     "output_type": "execute_result"
    }
   ],
   "source": [
    "df.isna().sum()"
   ]
  },
  {
   "cell_type": "code",
   "execution_count": 180,
   "id": "d11b109d",
   "metadata": {},
   "outputs": [],
   "source": [
    "# Create a function to handle the rest of the columns that contain NULL values\n",
    "def fill_nulls(column, value):\n",
    "    return df.fillna({column: value}, inplace=True)"
   ]
  },
  {
   "cell_type": "code",
   "execution_count": 181,
   "id": "ee05d213",
   "metadata": {},
   "outputs": [
    {
     "data": {
      "text/plain": [
       "['Zip Code', 'Organization', 'Social Benefit', 'Comments:']"
      ]
     },
     "execution_count": 181,
     "metadata": {},
     "output_type": "execute_result"
    }
   ],
   "source": [
    "# Create a list of the columns which contain the NULL values\n",
    "null_names = df.columns[df.isnull().any()].tolist()\n",
    "\n",
    "# Display the list\n",
    "null_names"
   ]
  },
  {
   "cell_type": "code",
   "execution_count": 182,
   "id": "8dd741ac",
   "metadata": {},
   "outputs": [],
   "source": [
    "# Create a list to contain the values to fill the NULLs\n",
    "null_values = ['Unknown Zip', 'Anonymous Organization', 'Unidentified Benefit', 'No additional commentary' ]"
   ]
  },
  {
   "cell_type": "code",
   "execution_count": 183,
   "id": "a797c4fb",
   "metadata": {},
   "outputs": [
    {
     "data": {
      "text/plain": [
       "{'Zip Code': 'Unknown Zip',\n",
       " 'Organization': 'Anonymous Organization',\n",
       " 'Social Benefit': 'Unidentified Benefit',\n",
       " 'Comments:': 'No additional commentary'}"
      ]
     },
     "execution_count": 183,
     "metadata": {},
     "output_type": "execute_result"
    }
   ],
   "source": [
    "# Zip our column/value pairings into a Dictionary\n",
    "null_dict = dict(zip(null_names, null_values))\n",
    "\n",
    "# Display our dictionary\n",
    "null_dict"
   ]
  },
  {
   "cell_type": "code",
   "execution_count": 184,
   "id": "e6bf652a",
   "metadata": {},
   "outputs": [],
   "source": [
    "# Run our function inside of a for loop passing the column and replacement value for each item\n",
    "for key, value in null_dict.items():\n",
    "    fill_nulls(key, value)"
   ]
  },
  {
   "cell_type": "code",
   "execution_count": 185,
   "id": "668df2d2",
   "metadata": {},
   "outputs": [
    {
     "data": {
      "text/plain": [
       "Entry Id              0\n",
       "Name                  0\n",
       "Last                  0\n",
       "Full Email            0\n",
       "Phone Number          0\n",
       "Zip Code              0\n",
       "Organization          0\n",
       "Social Benefit        0\n",
       "Comments:             0\n",
       "Date Created          0\n",
       "Created By            0\n",
       "IP Address            0\n",
       "Last Page Accessed    0\n",
       "Completion Status     0\n",
       "dtype: int64"
      ]
     },
     "execution_count": 185,
     "metadata": {},
     "output_type": "execute_result"
    }
   ],
   "source": [
    "# Sanity check \n",
    "df.isna().sum()"
   ]
  },
  {
   "cell_type": "code",
   "execution_count": 186,
   "id": "23322c15",
   "metadata": {},
   "outputs": [
    {
     "data": {
      "text/html": [
       "<div>\n",
       "<style scoped>\n",
       "    .dataframe tbody tr th:only-of-type {\n",
       "        vertical-align: middle;\n",
       "    }\n",
       "\n",
       "    .dataframe tbody tr th {\n",
       "        vertical-align: top;\n",
       "    }\n",
       "\n",
       "    .dataframe thead th {\n",
       "        text-align: right;\n",
       "    }\n",
       "</style>\n",
       "<table border=\"1\" class=\"dataframe\">\n",
       "  <thead>\n",
       "    <tr style=\"text-align: right;\">\n",
       "      <th></th>\n",
       "      <th>Entry Id</th>\n",
       "      <th>Name</th>\n",
       "      <th>Last</th>\n",
       "      <th>Full Email</th>\n",
       "      <th>Phone Number</th>\n",
       "      <th>Zip Code</th>\n",
       "      <th>Organization</th>\n",
       "      <th>Social Benefit</th>\n",
       "      <th>Comments:</th>\n",
       "      <th>Date Created</th>\n",
       "      <th>Created By</th>\n",
       "      <th>IP Address</th>\n",
       "      <th>Last Page Accessed</th>\n",
       "      <th>Completion Status</th>\n",
       "    </tr>\n",
       "  </thead>\n",
       "  <tbody>\n",
       "    <tr>\n",
       "      <th>6</th>\n",
       "      <td>38</td>\n",
       "      <td>[FIRST NAME REDACTED]</td>\n",
       "      <td>[LAST NAME REDACTED]</td>\n",
       "      <td>[EMAIL REDACTED]</td>\n",
       "      <td>[PHONE REDACTED]</td>\n",
       "      <td>40205</td>\n",
       "      <td>Anonymous Organization</td>\n",
       "      <td>Address negative economic impacts caused by th...</td>\n",
       "      <td>No additional commentary</td>\n",
       "      <td>2021-06-11 13:00:00</td>\n",
       "      <td>public</td>\n",
       "      <td>[IP ADDRESS REDACTED]</td>\n",
       "      <td>1</td>\n",
       "      <td>1</td>\n",
       "    </tr>\n",
       "    <tr>\n",
       "      <th>13</th>\n",
       "      <td>67</td>\n",
       "      <td>[FIRST NAME REDACTED]</td>\n",
       "      <td>[LAST NAME REDACTED]</td>\n",
       "      <td>[EMAIL REDACTED]</td>\n",
       "      <td>[PHONE REDACTED]</td>\n",
       "      <td>40203</td>\n",
       "      <td>Anonymous Organization</td>\n",
       "      <td>Address negative economic impacts caused by th...</td>\n",
       "      <td>No additional commentary</td>\n",
       "      <td>2021-06-14 21:09:00</td>\n",
       "      <td>public</td>\n",
       "      <td>[IP ADDRESS REDACTED]</td>\n",
       "      <td>1</td>\n",
       "      <td>1</td>\n",
       "    </tr>\n",
       "    <tr>\n",
       "      <th>14</th>\n",
       "      <td>71</td>\n",
       "      <td>[FIRST NAME REDACTED]</td>\n",
       "      <td>[LAST NAME REDACTED]</td>\n",
       "      <td>[EMAIL REDACTED]</td>\n",
       "      <td>[PHONE REDACTED]</td>\n",
       "      <td>40204</td>\n",
       "      <td>Anonymous Organization</td>\n",
       "      <td>Address negative economic impacts caused by th...</td>\n",
       "      <td>No additional commentary</td>\n",
       "      <td>2021-06-15 13:54:00</td>\n",
       "      <td>public</td>\n",
       "      <td>[IP ADDRESS REDACTED]</td>\n",
       "      <td>1</td>\n",
       "      <td>1</td>\n",
       "    </tr>\n",
       "    <tr>\n",
       "      <th>23</th>\n",
       "      <td>103</td>\n",
       "      <td>Stephanie</td>\n",
       "      <td>Davidson</td>\n",
       "      <td>stephanie@onewest.org</td>\n",
       "      <td>5029075147</td>\n",
       "      <td>40203</td>\n",
       "      <td>OneWest</td>\n",
       "      <td>Address negative economic impacts caused by th...</td>\n",
       "      <td>No additional commentary</td>\n",
       "      <td>2021-06-23 11:54:00</td>\n",
       "      <td>public</td>\n",
       "      <td>[IP ADDRESS REDACTED]</td>\n",
       "      <td>1</td>\n",
       "      <td>1</td>\n",
       "    </tr>\n",
       "    <tr>\n",
       "      <th>24</th>\n",
       "      <td>104</td>\n",
       "      <td>Rebecca</td>\n",
       "      <td>grau</td>\n",
       "      <td>rebecca@foodliteracyproject.org</td>\n",
       "      <td>5024190606</td>\n",
       "      <td>40207</td>\n",
       "      <td>The Food Literacy Project</td>\n",
       "      <td>Address negative economic impacts caused by th...</td>\n",
       "      <td>No additional commentary</td>\n",
       "      <td>2021-06-23 11:59:00</td>\n",
       "      <td>public</td>\n",
       "      <td>[IP ADDRESS REDACTED]</td>\n",
       "      <td>1</td>\n",
       "      <td>1</td>\n",
       "    </tr>\n",
       "    <tr>\n",
       "      <th>...</th>\n",
       "      <td>...</td>\n",
       "      <td>...</td>\n",
       "      <td>...</td>\n",
       "      <td>...</td>\n",
       "      <td>...</td>\n",
       "      <td>...</td>\n",
       "      <td>...</td>\n",
       "      <td>...</td>\n",
       "      <td>...</td>\n",
       "      <td>...</td>\n",
       "      <td>...</td>\n",
       "      <td>...</td>\n",
       "      <td>...</td>\n",
       "      <td>...</td>\n",
       "    </tr>\n",
       "    <tr>\n",
       "      <th>1281</th>\n",
       "      <td>942</td>\n",
       "      <td>Sandy</td>\n",
       "      <td>Spears</td>\n",
       "      <td>Sandy.Spears@kctcs.edu</td>\n",
       "      <td>5028675309</td>\n",
       "      <td>40205</td>\n",
       "      <td>Jefferson Community and Technical</td>\n",
       "      <td>Unidentified Benefit</td>\n",
       "      <td>No additional commentary</td>\n",
       "      <td>2021-07-19 12:12:00</td>\n",
       "      <td>public</td>\n",
       "      <td>[IP ADDRESS REDACTED]</td>\n",
       "      <td>1</td>\n",
       "      <td>1</td>\n",
       "    </tr>\n",
       "    <tr>\n",
       "      <th>1284</th>\n",
       "      <td>955</td>\n",
       "      <td>[FIRST NAME REDACTED]</td>\n",
       "      <td>[LAST NAME REDACTED]</td>\n",
       "      <td>[EMAIL REDACTED]</td>\n",
       "      <td>[PHONE REDACTED]</td>\n",
       "      <td>40299</td>\n",
       "      <td>Anonymous Organization</td>\n",
       "      <td>Unidentified Benefit</td>\n",
       "      <td>No additional commentary</td>\n",
       "      <td>2021-07-19 14:57:00</td>\n",
       "      <td>public</td>\n",
       "      <td>[IP ADDRESS REDACTED]</td>\n",
       "      <td>1</td>\n",
       "      <td>1</td>\n",
       "    </tr>\n",
       "    <tr>\n",
       "      <th>1295</th>\n",
       "      <td>1071</td>\n",
       "      <td>[FIRST NAME REDACTED]</td>\n",
       "      <td>[LAST NAME REDACTED]</td>\n",
       "      <td>[EMAIL REDACTED]</td>\n",
       "      <td>[PHONE REDACTED]</td>\n",
       "      <td>40202</td>\n",
       "      <td>Louisville Y.A.B.</td>\n",
       "      <td>Unidentified Benefit</td>\n",
       "      <td>No additional commentary</td>\n",
       "      <td>2021-07-22 23:00:00</td>\n",
       "      <td>public</td>\n",
       "      <td>[IP ADDRESS REDACTED]</td>\n",
       "      <td>1</td>\n",
       "      <td>1</td>\n",
       "    </tr>\n",
       "    <tr>\n",
       "      <th>1296</th>\n",
       "      <td>1072</td>\n",
       "      <td>[FIRST NAME REDACTED]</td>\n",
       "      <td>[LAST NAME REDACTED]</td>\n",
       "      <td>[EMAIL REDACTED]</td>\n",
       "      <td>[PHONE REDACTED]</td>\n",
       "      <td>40059</td>\n",
       "      <td>Anonymous Organization</td>\n",
       "      <td>Unidentified Benefit</td>\n",
       "      <td>No additional commentary</td>\n",
       "      <td>2021-07-23 05:34:00</td>\n",
       "      <td>public</td>\n",
       "      <td>[IP ADDRESS REDACTED]</td>\n",
       "      <td>1</td>\n",
       "      <td>1</td>\n",
       "    </tr>\n",
       "    <tr>\n",
       "      <th>1326</th>\n",
       "      <td>1324</td>\n",
       "      <td>Wail</td>\n",
       "      <td>Sabarneh</td>\n",
       "      <td>wsabarneh@yahoo.com</td>\n",
       "      <td>5133383412</td>\n",
       "      <td>40223</td>\n",
       "      <td>Louisville liquidation</td>\n",
       "      <td>Invest in water, sewer, and broadband infrastr...</td>\n",
       "      <td>No additional commentary</td>\n",
       "      <td>2021-08-21 18:09:00</td>\n",
       "      <td>public</td>\n",
       "      <td>[IP ADDRESS REDACTED]</td>\n",
       "      <td>1</td>\n",
       "      <td>1</td>\n",
       "    </tr>\n",
       "  </tbody>\n",
       "</table>\n",
       "<p>543 rows × 14 columns</p>\n",
       "</div>"
      ],
      "text/plain": [
       "      Entry Id                   Name                  Last  \\\n",
       "6           38  [FIRST NAME REDACTED]  [LAST NAME REDACTED]   \n",
       "13          67  [FIRST NAME REDACTED]  [LAST NAME REDACTED]   \n",
       "14          71  [FIRST NAME REDACTED]  [LAST NAME REDACTED]   \n",
       "23         103              Stephanie              Davidson   \n",
       "24         104                Rebecca                  grau   \n",
       "...        ...                    ...                   ...   \n",
       "1281       942                  Sandy                Spears   \n",
       "1284       955  [FIRST NAME REDACTED]  [LAST NAME REDACTED]   \n",
       "1295      1071  [FIRST NAME REDACTED]  [LAST NAME REDACTED]   \n",
       "1296      1072  [FIRST NAME REDACTED]  [LAST NAME REDACTED]   \n",
       "1326      1324                   Wail              Sabarneh   \n",
       "\n",
       "                           Full Email      Phone Number Zip Code  \\\n",
       "6                    [EMAIL REDACTED]  [PHONE REDACTED]    40205   \n",
       "13                   [EMAIL REDACTED]  [PHONE REDACTED]    40203   \n",
       "14                   [EMAIL REDACTED]  [PHONE REDACTED]    40204   \n",
       "23              stephanie@onewest.org        5029075147    40203   \n",
       "24    rebecca@foodliteracyproject.org        5024190606    40207   \n",
       "...                               ...               ...      ...   \n",
       "1281           Sandy.Spears@kctcs.edu        5028675309    40205   \n",
       "1284                 [EMAIL REDACTED]  [PHONE REDACTED]    40299   \n",
       "1295                 [EMAIL REDACTED]  [PHONE REDACTED]    40202   \n",
       "1296                 [EMAIL REDACTED]  [PHONE REDACTED]    40059   \n",
       "1326              wsabarneh@yahoo.com        5133383412    40223   \n",
       "\n",
       "                           Organization  \\\n",
       "6                Anonymous Organization   \n",
       "13               Anonymous Organization   \n",
       "14               Anonymous Organization   \n",
       "23                              OneWest   \n",
       "24            The Food Literacy Project   \n",
       "...                                 ...   \n",
       "1281  Jefferson Community and Technical   \n",
       "1284             Anonymous Organization   \n",
       "1295                  Louisville Y.A.B.   \n",
       "1296             Anonymous Organization   \n",
       "1326            Louisville liquidation    \n",
       "\n",
       "                                         Social Benefit  \\\n",
       "6     Address negative economic impacts caused by th...   \n",
       "13    Address negative economic impacts caused by th...   \n",
       "14    Address negative economic impacts caused by th...   \n",
       "23    Address negative economic impacts caused by th...   \n",
       "24    Address negative economic impacts caused by th...   \n",
       "...                                                 ...   \n",
       "1281                               Unidentified Benefit   \n",
       "1284                               Unidentified Benefit   \n",
       "1295                               Unidentified Benefit   \n",
       "1296                               Unidentified Benefit   \n",
       "1326  Invest in water, sewer, and broadband infrastr...   \n",
       "\n",
       "                     Comments:        Date Created Created By  \\\n",
       "6     No additional commentary 2021-06-11 13:00:00     public   \n",
       "13    No additional commentary 2021-06-14 21:09:00     public   \n",
       "14    No additional commentary 2021-06-15 13:54:00     public   \n",
       "23    No additional commentary 2021-06-23 11:54:00     public   \n",
       "24    No additional commentary 2021-06-23 11:59:00     public   \n",
       "...                        ...                 ...        ...   \n",
       "1281  No additional commentary 2021-07-19 12:12:00     public   \n",
       "1284  No additional commentary 2021-07-19 14:57:00     public   \n",
       "1295  No additional commentary 2021-07-22 23:00:00     public   \n",
       "1296  No additional commentary 2021-07-23 05:34:00     public   \n",
       "1326  No additional commentary 2021-08-21 18:09:00     public   \n",
       "\n",
       "                 IP Address  Last Page Accessed  Completion Status  \n",
       "6     [IP ADDRESS REDACTED]                   1                  1  \n",
       "13    [IP ADDRESS REDACTED]                   1                  1  \n",
       "14    [IP ADDRESS REDACTED]                   1                  1  \n",
       "23    [IP ADDRESS REDACTED]                   1                  1  \n",
       "24    [IP ADDRESS REDACTED]                   1                  1  \n",
       "...                     ...                 ...                ...  \n",
       "1281  [IP ADDRESS REDACTED]                   1                  1  \n",
       "1284  [IP ADDRESS REDACTED]                   1                  1  \n",
       "1295  [IP ADDRESS REDACTED]                   1                  1  \n",
       "1296  [IP ADDRESS REDACTED]                   1                  1  \n",
       "1326  [IP ADDRESS REDACTED]                   1                  1  \n",
       "\n",
       "[543 rows x 14 columns]"
      ]
     },
     "execution_count": 186,
     "metadata": {},
     "output_type": "execute_result"
    }
   ],
   "source": [
    "# Sanity Check\n",
    "df[df['Comments:'] == 'No additional commentary']"
   ]
  },
  {
   "cell_type": "code",
   "execution_count": 187,
   "id": "b00ae9e9",
   "metadata": {},
   "outputs": [
    {
     "data": {
      "text/plain": [
       "Name\n",
       "[FIRST NAME REDACTED]    864\n",
       "Michael                   10\n",
       "James                      6\n",
       "Stephanie                  5\n",
       "Mark                       4\n",
       "                        ... \n",
       "mark                       1\n",
       "laura                      1\n",
       "lacey                      1\n",
       "kristin                    1\n",
       "kim                        1\n",
       "Name: Entry Id, Length: 371, dtype: int64"
      ]
     },
     "execution_count": 187,
     "metadata": {},
     "output_type": "execute_result"
    }
   ],
   "source": [
    "# Illustrate using .groupby how to get a count of values within a column\n",
    "df.groupby('Name')['Entry Id'].count().sort_values(ascending=False)"
   ]
  },
  {
   "cell_type": "code",
   "execution_count": 188,
   "id": "6b80e8ad",
   "metadata": {},
   "outputs": [
    {
     "data": {
      "text/plain": [
       "Name\n",
       "[FIRST NAME REDACTED]    864\n",
       "Michael                   10\n",
       "James                      6\n",
       "Stephanie                  5\n",
       "Brian                      4\n",
       "                        ... \n",
       "Ludmilla                   1\n",
       "Brittany                   1\n",
       "Kelly                      1\n",
       "Zahjona                    1\n",
       "Tracy                      1\n",
       "Name: count, Length: 371, dtype: int64"
      ]
     },
     "execution_count": 188,
     "metadata": {},
     "output_type": "execute_result"
    }
   ],
   "source": [
    "# Illustrate using .value_counts() how to get a count of values within a column\n",
    "df['Name'].value_counts()"
   ]
  },
  {
   "cell_type": "code",
   "execution_count": 189,
   "id": "fbbc6a25",
   "metadata": {},
   "outputs": [
    {
     "name": "stdout",
     "output_type": "stream",
     "text": [
      "Entry Id\n",
      "1324    2\n",
      "1322    2\n",
      "1323    2\n",
      "29      1\n",
      "31      1\n",
      "       ..\n",
      "1172    1\n",
      "1179    1\n",
      "1183    1\n",
      "1210    1\n",
      "28      1\n",
      "Name: count, Length: 1334, dtype: int64\n",
      "Name\n",
      "[FIRST NAME REDACTED]    864\n",
      "Michael                   10\n",
      "James                      6\n",
      "Stephanie                  5\n",
      "Brian                      4\n",
      "                        ... \n",
      "Ludmilla                   1\n",
      "Brittany                   1\n",
      "Kelly                      1\n",
      "Zahjona                    1\n",
      "Tracy                      1\n",
      "Name: count, Length: 371, dtype: int64\n",
      "Last\n",
      "[LAST NAME REDACTED]    864\n",
      "Smith                     7\n",
      "Miller                    5\n",
      "Johnson                   5\n",
      "Brown                     4\n",
      "                       ... \n",
      "McCracken                 1\n",
      "r                         1\n",
      "Shea                      1\n",
      "Burke                     1\n",
      "ramser                    1\n",
      "Name: count, Length: 408, dtype: int64\n",
      "Full Email\n",
      "[EMAIL REDACTED]                     864\n",
      "charmaine.smith@louisvilleky.gov       4\n",
      "timmy.risinger@louisvlleky.gov         3\n",
      "katreese.walker@louisvilleky.gov       3\n",
      "rebecca.hatfield@louisvilleky.gov      2\n",
      "                                    ... \n",
      "tshipp@sevencounties.org               1\n",
      "smccarty@sevencounties.org             1\n",
      "michael.tobbe@louisvilleky.gov         1\n",
      "george.sanders@louisvilleky.gov        1\n",
      "louis.burke@louisvilleky.gov           1\n",
      "Name: count, Length: 448, dtype: int64\n",
      "Phone Number\n",
      "[PHONE REDACTED]    862\n",
      "5028675309          105\n",
      "5024511221            4\n",
      "5025747500            3\n",
      "5025747519            3\n",
      "                   ... \n",
      "5028023679            1\n",
      "8122078482            1\n",
      "5028933815            1\n",
      "8593299382            1\n",
      "5026412210            1\n",
      "Name: count, Length: 346, dtype: int64\n",
      "Zip Code\n",
      "40205         83\n",
      "40202         76\n",
      "40216         66\n",
      "40214         59\n",
      "40272         57\n",
      "              ..\n",
      "47122          1\n",
      "40059-         1\n",
      "A              1\n",
      "40216-4334     1\n",
      "40204-1353     1\n",
      "Name: count, Length: 115, dtype: int64\n",
      "Organization\n",
      "Anonymous Organization                               562\n",
      "CLOUT                                                 47\n",
      "LMDC                                                  27\n",
      "Louisville Zoo                                        22\n",
      "Seven Counties Services                               21\n",
      "                                                    ... \n",
      "Delta Sigma Theta Sorority Inc.                        1\n",
      "DICKEN Enterprises, Inc.                               1\n",
      "The Morton Center, Inc.                                1\n",
      "Jeffersontown Rehabilitation and Clearview Health      1\n",
      "Previous Chairman of Anchorage EMS                     1\n",
      "Name: count, Length: 450, dtype: int64\n",
      "Social Benefit\n",
      "Provide premium pay for essential workers                                  776\n",
      "Address negative economic impacts caused by the public health emergency    203\n",
      "Support public health expenditures                                         124\n",
      "Unidentified Benefit                                                       102\n",
      "Invest in water, sewer, and broadband infrastructure                        95\n",
      "Replace lost public sector revenue                                          37\n",
      "Name: count, dtype: int64\n",
      "Comments:\n",
      "No additional commentary                                                                                                                                                                                                                                                                                                                                                                                                                                                                                                                                                                                                                                                                                                                                                                                                                                                                                                                                                                                                                                                                                                                                                                                               543\n",
      "Louisville Metro needs to dedicate $100 million dollars for affordable housing, including an additional $30 million for the Louisville Affordable Housing Trust Fund, in order to address our city's affordable housing shortage of approximately 30,000 units.                                                                                                                                                                                                                                                                                                                                                                                                                                                                                                                                                                                                                                                                                                                                                                                                                                                                                                                                                         12\n",
      "Louisville Metro needs to dedicate $100 million dollars for affordable housing, of that an additional $30 mil for the Louisville Affordable Housing Trust Fund in order to address our city's affordable housing crisis which stems from a shortage of approximately 30,000 units.                                                                                                                                                                                                                                                                                                                                                                                                                                                                                                                                                                                                                                                                                                                                                                                                                                                                                                                                       6\n",
      "a.\\tIncreased community supports for transitional age youth, particularly those transitioning out of foster care_x000D_\\nb.\\tExpansion of crisis services including Addiction Stabilization Unit programs and supports for crisis drop-in services_x000D_\\nc.\\tSpecialized after school and out of school time aimed to reduce education disparities with families in the west and south neighborhoods of Louisville_x000D_\\nd.\\tCrisis Services for adults with mental illness_x000D_\\ne.\\tSupport for adolescent specialty services _x000D_\\nf.\\tWrap around services for youth in foster care and their families_x000D_\\n                                                                                                                                                                                                                                                                                                                                                                                                                                                                                                                                                                                             4\n",
      "The Louisville bats baseball club is a cornerstone to the socioeconomic impact in the city of Louisville. The COVID 19 pandemic took an entire season from minor league baseball. This impact took countless of millions of dollars in loss revenue for the organization that has itself at an enormously understaffed front office, infrastructure issues around and the stadium, and low revenue across the board. This payment can help bring slugger field back to normalization.                                                                                                                                                                                                                                                                                                                                                                                                                                                                                                                                                                                                                                                                                                                                    2\n",
      "                                                                                                                                                                                                                                                                                                                                                                                                                                                                                                                                                                                                                                                                                                                                                                                                                                                                                                                                                                                                                                                                                                                                                                                                                      ... \n",
      "I am writing to encourage the Accelerator Team and Metro Council to use AFP funds to address the rising rate of gun violence in Louisville, including mental health programs utilizing evidence-based strategies for suicide prevention.                                                                                                                                                                                                                                                                                                                                                                                                                                                                                                                                                                                                                                                                                                                                                                                                                                                                                                                                                                                 1\n",
      "I am writing to encourage the Accelerator Team and Metro Council to use ARP funds to address the rising rate of gun violence in Louisville, including support for mental health programs utilizing evidence-based strategies for suicide prevention. Gun violence nearly ended my life and preventing it is my top priority.                                                                                                                                                                                                                                                                                                                                                                                                                                                                                                                                                                                                                                                                                                                                                                                                                                                                                             1\n",
      "I am writing to encourage the Accelerator Team and Metro Council to use ARP funds to address the rising rate of gun violence in Louisville, including support for mental health programs utilizing evidence-based strategies for suicide prevention._x000D_\\n                                                                                                                                                                                                                                                                                                                                                                                                                                                                                                                                                                                                                                                                                                                                                                                                                                                                                                                                                            1\n",
      "I am writing to encourage the Accelerator Team and Metro Council to use ARP funds to address the rising rate of gun violence in Louisville, including support for mental health programs utilizing evidence-based strategies for suicide prevention.                                                                                                                                                                                                                                                                                                                                                                                                                                                                                                                                                                                                                                                                                                                                                                                                                                                                                                                                                                     1\n",
      "Nearly $6 million in marketing for downtown is a hard no from this resident. I love downtown, was down there yesterday in fact. The Convention and Visitors Bureau is more than capable of handling this for far less than $6 million. Our city has proved time and time again to be incapable of addressing real needs downtown, let's start with housing the homeless instead of criminalizing them. Let's stop giving away millions of dollars to giant corporation 4th Street Live, the Omni. Let's stop assuming marketing downtown means convincing wealthy east end residents to visit, no amount of marketing is going to change the majority of their minds. Make downtown a place people want to be and we will come, marketing is not the problem. Remove cars, incentivize development of surface lots, subsidize popular local businesses to come downtown, do away with all the one-way streets. This kind of thing has been done all over the world, and right across the river. It's not rocket science and it's not marketing. Create a place people want to be and go and they will come, putting up banners, creating a tag line, and airing a commercial isn't the way to invest these dollars.      1\n",
      "Name: count, Length: 773, dtype: int64\n",
      "Date Created\n",
      "2021-07-12 10:35:00    6\n",
      "2021-07-12 11:00:00    4\n",
      "2021-07-02 11:41:00    4\n",
      "2021-07-12 10:42:00    4\n",
      "2021-07-12 10:49:00    4\n",
      "                      ..\n",
      "2021-07-26 11:00:00    1\n",
      "2021-07-26 13:49:00    1\n",
      "2021-07-26 17:13:00    1\n",
      "2021-07-27 11:54:00    1\n",
      "2021-07-29 19:10:00    1\n",
      "Name: count, Length: 1243, dtype: int64\n",
      "Created By\n",
      "public    1337\n",
      "Name: count, dtype: int64\n",
      "IP Address\n",
      "[IP ADDRESS REDACTED]    1337\n",
      "Name: count, dtype: int64\n",
      "Last Page Accessed\n",
      "1    1337\n",
      "Name: count, dtype: int64\n",
      "Completion Status\n",
      "1    1337\n",
      "Name: count, dtype: int64\n"
     ]
    }
   ],
   "source": [
    "# Print the value counts for each column\n",
    "for col in df.columns:\n",
    "    print(df[col].value_counts())"
   ]
  },
  {
   "cell_type": "code",
   "execution_count": 190,
   "id": "121c9118",
   "metadata": {},
   "outputs": [
    {
     "data": {
      "text/html": [
       "<div>\n",
       "<style scoped>\n",
       "    .dataframe tbody tr th:only-of-type {\n",
       "        vertical-align: middle;\n",
       "    }\n",
       "\n",
       "    .dataframe tbody tr th {\n",
       "        vertical-align: top;\n",
       "    }\n",
       "\n",
       "    .dataframe thead th {\n",
       "        text-align: right;\n",
       "    }\n",
       "</style>\n",
       "<table border=\"1\" class=\"dataframe\">\n",
       "  <thead>\n",
       "    <tr style=\"text-align: right;\">\n",
       "      <th></th>\n",
       "      <th>Entry Id</th>\n",
       "      <th>Name</th>\n",
       "      <th>Last</th>\n",
       "      <th>Full Email</th>\n",
       "      <th>Phone Number</th>\n",
       "      <th>Zip Code</th>\n",
       "      <th>Organization</th>\n",
       "      <th>Social Benefit</th>\n",
       "      <th>Comments:</th>\n",
       "      <th>Date Created</th>\n",
       "      <th>Created By</th>\n",
       "      <th>IP Address</th>\n",
       "      <th>Last Page Accessed</th>\n",
       "      <th>Completion Status</th>\n",
       "    </tr>\n",
       "  </thead>\n",
       "  <tbody>\n",
       "    <tr>\n",
       "      <th>196</th>\n",
       "      <td>1322</td>\n",
       "      <td>[FIRST NAME REDACTED]</td>\n",
       "      <td>[LAST NAME REDACTED]</td>\n",
       "      <td>[EMAIL REDACTED]</td>\n",
       "      <td>[PHONE REDACTED]</td>\n",
       "      <td>40217</td>\n",
       "      <td>Louisville bats baseball club</td>\n",
       "      <td>Address negative economic impacts caused by th...</td>\n",
       "      <td>The Louisville bats baseball club is a corners...</td>\n",
       "      <td>2021-08-19 22:02:00</td>\n",
       "      <td>public</td>\n",
       "      <td>[IP ADDRESS REDACTED]</td>\n",
       "      <td>1</td>\n",
       "      <td>1</td>\n",
       "    </tr>\n",
       "    <tr>\n",
       "      <th>197</th>\n",
       "      <td>1323</td>\n",
       "      <td>Charles</td>\n",
       "      <td>Walsh</td>\n",
       "      <td>walshc22@gmail.com</td>\n",
       "      <td>5034423235</td>\n",
       "      <td>40205</td>\n",
       "      <td>The Chapel of St Philp Neri</td>\n",
       "      <td>Address negative economic impacts caused by th...</td>\n",
       "      <td>The Chapel provides a donation based venue for...</td>\n",
       "      <td>2021-08-21 13:17:00</td>\n",
       "      <td>public</td>\n",
       "      <td>[IP ADDRESS REDACTED]</td>\n",
       "      <td>1</td>\n",
       "      <td>1</td>\n",
       "    </tr>\n",
       "    <tr>\n",
       "      <th>289</th>\n",
       "      <td>1324</td>\n",
       "      <td>Wail</td>\n",
       "      <td>Sabarneh</td>\n",
       "      <td>wsabarneh@yahoo.com</td>\n",
       "      <td>5133383412</td>\n",
       "      <td>40223</td>\n",
       "      <td>Louisville liquidation</td>\n",
       "      <td>Invest in water, sewer, and broadband infrastr...</td>\n",
       "      <td>No additional commentary</td>\n",
       "      <td>2021-08-21 18:09:00</td>\n",
       "      <td>public</td>\n",
       "      <td>[IP ADDRESS REDACTED]</td>\n",
       "      <td>1</td>\n",
       "      <td>1</td>\n",
       "    </tr>\n",
       "    <tr>\n",
       "      <th>1324</th>\n",
       "      <td>1322</td>\n",
       "      <td>Kevin</td>\n",
       "      <td>Burns</td>\n",
       "      <td>kevin.burns2317@outlook.com</td>\n",
       "      <td>7089124694</td>\n",
       "      <td>40217</td>\n",
       "      <td>Louisville bats baseball club</td>\n",
       "      <td>Address negative economic impacts caused by th...</td>\n",
       "      <td>The Louisville bats baseball club is a corners...</td>\n",
       "      <td>2021-08-19 22:02:00</td>\n",
       "      <td>public</td>\n",
       "      <td>[IP ADDRESS REDACTED]</td>\n",
       "      <td>1</td>\n",
       "      <td>1</td>\n",
       "    </tr>\n",
       "    <tr>\n",
       "      <th>1325</th>\n",
       "      <td>1323</td>\n",
       "      <td>Charles</td>\n",
       "      <td>Walsh</td>\n",
       "      <td>walshc22@gmail.com</td>\n",
       "      <td>5034423235</td>\n",
       "      <td>40205</td>\n",
       "      <td>The Chapel of St Philp Neri</td>\n",
       "      <td>Address negative economic impacts caused by th...</td>\n",
       "      <td>The Chapel provides a donation based venue for...</td>\n",
       "      <td>2021-08-21 13:17:00</td>\n",
       "      <td>public</td>\n",
       "      <td>[IP ADDRESS REDACTED]</td>\n",
       "      <td>1</td>\n",
       "      <td>1</td>\n",
       "    </tr>\n",
       "    <tr>\n",
       "      <th>1326</th>\n",
       "      <td>1324</td>\n",
       "      <td>Wail</td>\n",
       "      <td>Sabarneh</td>\n",
       "      <td>wsabarneh@yahoo.com</td>\n",
       "      <td>5133383412</td>\n",
       "      <td>40223</td>\n",
       "      <td>Louisville liquidation</td>\n",
       "      <td>Invest in water, sewer, and broadband infrastr...</td>\n",
       "      <td>No additional commentary</td>\n",
       "      <td>2021-08-21 18:09:00</td>\n",
       "      <td>public</td>\n",
       "      <td>[IP ADDRESS REDACTED]</td>\n",
       "      <td>1</td>\n",
       "      <td>1</td>\n",
       "    </tr>\n",
       "  </tbody>\n",
       "</table>\n",
       "</div>"
      ],
      "text/plain": [
       "      Entry Id                   Name                  Last  \\\n",
       "196       1322  [FIRST NAME REDACTED]  [LAST NAME REDACTED]   \n",
       "197       1323                Charles                 Walsh   \n",
       "289       1324                   Wail              Sabarneh   \n",
       "1324      1322                 Kevin                  Burns   \n",
       "1325      1323                Charles                 Walsh   \n",
       "1326      1324                   Wail              Sabarneh   \n",
       "\n",
       "                       Full Email      Phone Number Zip Code  \\\n",
       "196              [EMAIL REDACTED]  [PHONE REDACTED]    40217   \n",
       "197            walshc22@gmail.com        5034423235    40205   \n",
       "289           wsabarneh@yahoo.com        5133383412    40223   \n",
       "1324  kevin.burns2317@outlook.com        7089124694    40217   \n",
       "1325           walshc22@gmail.com        5034423235    40205   \n",
       "1326          wsabarneh@yahoo.com        5133383412    40223   \n",
       "\n",
       "                        Organization  \\\n",
       "196   Louisville bats baseball club    \n",
       "197      The Chapel of St Philp Neri   \n",
       "289          Louisville liquidation    \n",
       "1324  Louisville bats baseball club    \n",
       "1325     The Chapel of St Philp Neri   \n",
       "1326         Louisville liquidation    \n",
       "\n",
       "                                         Social Benefit  \\\n",
       "196   Address negative economic impacts caused by th...   \n",
       "197   Address negative economic impacts caused by th...   \n",
       "289   Invest in water, sewer, and broadband infrastr...   \n",
       "1324  Address negative economic impacts caused by th...   \n",
       "1325  Address negative economic impacts caused by th...   \n",
       "1326  Invest in water, sewer, and broadband infrastr...   \n",
       "\n",
       "                                              Comments:        Date Created  \\\n",
       "196   The Louisville bats baseball club is a corners... 2021-08-19 22:02:00   \n",
       "197   The Chapel provides a donation based venue for... 2021-08-21 13:17:00   \n",
       "289                            No additional commentary 2021-08-21 18:09:00   \n",
       "1324  The Louisville bats baseball club is a corners... 2021-08-19 22:02:00   \n",
       "1325  The Chapel provides a donation based venue for... 2021-08-21 13:17:00   \n",
       "1326                           No additional commentary 2021-08-21 18:09:00   \n",
       "\n",
       "     Created By             IP Address  Last Page Accessed  Completion Status  \n",
       "196      public  [IP ADDRESS REDACTED]                   1                  1  \n",
       "197      public  [IP ADDRESS REDACTED]                   1                  1  \n",
       "289      public  [IP ADDRESS REDACTED]                   1                  1  \n",
       "1324     public  [IP ADDRESS REDACTED]                   1                  1  \n",
       "1325     public  [IP ADDRESS REDACTED]                   1                  1  \n",
       "1326     public  [IP ADDRESS REDACTED]                   1                  1  "
      ]
     },
     "execution_count": 190,
     "metadata": {},
     "output_type": "execute_result"
    }
   ],
   "source": [
    "# Isolate the known duplicated values in the entry id column which should be unique\n",
    "df[df['Entry Id'].isin([1322, 1323, 1324])]"
   ]
  },
  {
   "cell_type": "code",
   "execution_count": 191,
   "id": "eb20f99f",
   "metadata": {},
   "outputs": [],
   "source": [
    "# Keep the more complete latter columns and drop the earlier\n",
    "df.drop_duplicates(subset=['Entry Id'], keep='last', inplace=True)"
   ]
  },
  {
   "cell_type": "code",
   "execution_count": 192,
   "id": "3c8586f2",
   "metadata": {},
   "outputs": [
    {
     "name": "stdout",
     "output_type": "stream",
     "text": [
      "['public']\n",
      "['[IP ADDRESS REDACTED]']\n",
      "[1]\n",
      "[1]\n"
     ]
    }
   ],
   "source": [
    "# Inspect these columns observed to have the same value in each row, to assess for it's meaningfulness\n",
    "for col in ['Created By', 'IP Address', 'Last Page Accessed', 'Completion Status']:\n",
    "    print(df[col].unique())"
   ]
  },
  {
   "cell_type": "code",
   "execution_count": 193,
   "id": "b4e78e36",
   "metadata": {},
   "outputs": [],
   "source": [
    "# Drop these columns with unmeaningful redundant values\n",
    "df.drop(['Created By', 'IP Address', 'Last Page Accessed', 'Completion Status'], axis=1, inplace=True)"
   ]
  },
  {
   "cell_type": "code",
   "execution_count": 194,
   "id": "a19bda33",
   "metadata": {},
   "outputs": [],
   "source": [
    "# Coerce the Date Created column to drop the times and format the dates MM-DD-YYYY\n",
    "for i in df.index:\n",
    "    df['Date Created'] = pd.to_datetime(df['Date Created']).dt.strftime('%m-%d-%Y')"
   ]
  },
  {
   "cell_type": "code",
   "execution_count": 195,
   "id": "c71a2510",
   "metadata": {},
   "outputs": [
    {
     "data": {
      "text/plain": [
       "0    06-10-2021\n",
       "1    06-10-2021\n",
       "2    06-11-2021\n",
       "Name: Date Created, dtype: object"
      ]
     },
     "execution_count": 195,
     "metadata": {},
     "output_type": "execute_result"
    }
   ],
   "source": [
    "# Sanity check to assess the success of the last operation\n",
    "df['Date Created'].head(3)"
   ]
  },
  {
   "cell_type": "code",
   "execution_count": 196,
   "id": "0e1337b6",
   "metadata": {},
   "outputs": [],
   "source": [
    "# Convert the Phone Number column to a string data type, was previously integers with a few strings\n",
    "df['Phone Number'] = df['Phone Number'].astype(str)"
   ]
  },
  {
   "cell_type": "code",
   "execution_count": 197,
   "id": "ba110a00",
   "metadata": {},
   "outputs": [],
   "source": [
    "# Make a list of columns that contain a value with 'REDACTED' in it and save it to a variable\n",
    "red_cols = ['Name', 'Last', 'Full Email', 'Phone Number']"
   ]
  },
  {
   "cell_type": "code",
   "execution_count": 198,
   "id": "794c5bb1",
   "metadata": {},
   "outputs": [],
   "source": [
    "# Iterate through each index\n",
    "for i in df.index:\n",
    "    # Of each column known to have the value 'REDACTED'\n",
    "    for col in red_cols:\n",
    "        # Isolate the rows with the value 'REDACTED'\n",
    "        if 'REDACTED' in df.loc[i, col]:\n",
    "            # And replace 'REDACTED' with the value 'Unknown'\n",
    "            df.loc[i, col] = 'Unknown'"
   ]
  },
  {
   "cell_type": "code",
   "execution_count": 199,
   "id": "7c2b229e",
   "metadata": {},
   "outputs": [
    {
     "data": {
      "text/html": [
       "<div>\n",
       "<style scoped>\n",
       "    .dataframe tbody tr th:only-of-type {\n",
       "        vertical-align: middle;\n",
       "    }\n",
       "\n",
       "    .dataframe tbody tr th {\n",
       "        vertical-align: top;\n",
       "    }\n",
       "\n",
       "    .dataframe thead th {\n",
       "        text-align: right;\n",
       "    }\n",
       "</style>\n",
       "<table border=\"1\" class=\"dataframe\">\n",
       "  <thead>\n",
       "    <tr style=\"text-align: right;\">\n",
       "      <th></th>\n",
       "      <th>Entry Id</th>\n",
       "      <th>Name</th>\n",
       "      <th>Last</th>\n",
       "      <th>Full Email</th>\n",
       "      <th>Phone Number</th>\n",
       "      <th>Zip Code</th>\n",
       "      <th>Organization</th>\n",
       "      <th>Social Benefit</th>\n",
       "      <th>Comments:</th>\n",
       "      <th>Date Created</th>\n",
       "    </tr>\n",
       "  </thead>\n",
       "  <tbody>\n",
       "    <tr>\n",
       "      <th>0</th>\n",
       "      <td>14</td>\n",
       "      <td>Marty</td>\n",
       "      <td>Merkel</td>\n",
       "      <td>mmerkel@jrarchitects.com</td>\n",
       "      <td>5025834697</td>\n",
       "      <td>40206</td>\n",
       "      <td>Anonymous Organization</td>\n",
       "      <td>Address negative economic impacts caused by th...</td>\n",
       "      <td>Fund LRDA, Louisville Downtown Residents Assoc...</td>\n",
       "      <td>06-10-2021</td>\n",
       "    </tr>\n",
       "    <tr>\n",
       "      <th>1</th>\n",
       "      <td>15</td>\n",
       "      <td>Unknown</td>\n",
       "      <td>Unknown</td>\n",
       "      <td>Unknown</td>\n",
       "      <td>Unknown</td>\n",
       "      <td>40218</td>\n",
       "      <td>Anonymous Organization</td>\n",
       "      <td>Address negative economic impacts caused by th...</td>\n",
       "      <td>The funds should be used for  negative economi...</td>\n",
       "      <td>06-10-2021</td>\n",
       "    </tr>\n",
       "    <tr>\n",
       "      <th>2</th>\n",
       "      <td>26</td>\n",
       "      <td>Unknown</td>\n",
       "      <td>Unknown</td>\n",
       "      <td>Unknown</td>\n",
       "      <td>Unknown</td>\n",
       "      <td>40217</td>\n",
       "      <td>Anonymous Organization</td>\n",
       "      <td>Address negative economic impacts caused by th...</td>\n",
       "      <td>Greg. Show me your checkbook and Iâ€™ll tell y...</td>\n",
       "      <td>06-11-2021</td>\n",
       "    </tr>\n",
       "  </tbody>\n",
       "</table>\n",
       "</div>"
      ],
      "text/plain": [
       "   Entry Id     Name     Last                Full Email Phone Number Zip Code  \\\n",
       "0        14    Marty   Merkel  mmerkel@jrarchitects.com   5025834697    40206   \n",
       "1        15  Unknown  Unknown                   Unknown      Unknown    40218   \n",
       "2        26  Unknown  Unknown                   Unknown      Unknown    40217   \n",
       "\n",
       "             Organization                                     Social Benefit  \\\n",
       "0  Anonymous Organization  Address negative economic impacts caused by th...   \n",
       "1  Anonymous Organization  Address negative economic impacts caused by th...   \n",
       "2  Anonymous Organization  Address negative economic impacts caused by th...   \n",
       "\n",
       "                                           Comments: Date Created  \n",
       "0  Fund LRDA, Louisville Downtown Residents Assoc...   06-10-2021  \n",
       "1  The funds should be used for  negative economi...   06-10-2021  \n",
       "2  Greg. Show me your checkbook and Iâ€™ll tell y...   06-11-2021  "
      ]
     },
     "execution_count": 199,
     "metadata": {},
     "output_type": "execute_result"
    }
   ],
   "source": [
    "# Sanity check to assess the success of the previous operation\n",
    "df.head(3)"
   ]
  },
  {
   "cell_type": "code",
   "execution_count": 200,
   "id": "705ae4c6",
   "metadata": {},
   "outputs": [],
   "source": [
    "# Use slicing to remove any digits beyond 5 in the Zip Code column\n",
    "for i in df.index:\n",
    "    df.loc[i, 'Zip Code'] = str(df.loc[i, 'Zip Code'])[:5]"
   ]
  },
  {
   "cell_type": "code",
   "execution_count": 201,
   "id": "f10d0b0f",
   "metadata": {},
   "outputs": [
    {
     "data": {
      "text/plain": [
       "array(['40206', '40218', '40217', '40205', '47130', '40204', '40216',\n",
       "       '40245', '40214', '40203', '40212', '40207', '40291', '40223',\n",
       "       '40299', '40213', '40222', '40272', '42101', '40220', '40219',\n",
       "       '40211', '40228', '40202', '47136', '40208', '40258', '40422',\n",
       "       '40215', '40175', '40243', '40241', '40160', '40209', '40059',\n",
       "       '40229', '36542', '40165', '40210', '40118', '35758', '40014',\n",
       "       '40242', '40404', '40047', '47170', '47129', '40162', '40051',\n",
       "       '47150', '40056', '40065', '47164', '40071', '42701', '47177',\n",
       "       '76135', '47124', '40067', '47141', '40108', '40004', '40036',\n",
       "       '42754', '40107', '20449', '40055', '40023', '47142', '47172',\n",
       "       '40164', '40031', '40514', '47421', '47112', '40342', '40024',\n",
       "       '46110', '33315', '42303', '47119', '47111', '40121', '40026',\n",
       "       '47126', '40517', '41018', '40509', '47117', '47131', '40109',\n",
       "       '40268', 'Unkno', '207', '40037', '20220', '40221', '47122', 'A'],\n",
       "      dtype=object)"
      ]
     },
     "execution_count": 201,
     "metadata": {},
     "output_type": "execute_result"
    }
   ],
   "source": [
    "# Find all unique values in the Zip Code column\n",
    "df['Zip Code'].unique()"
   ]
  },
  {
   "cell_type": "code",
   "execution_count": 202,
   "id": "22ad9823",
   "metadata": {},
   "outputs": [
    {
     "data": {
      "text/html": [
       "<div>\n",
       "<style scoped>\n",
       "    .dataframe tbody tr th:only-of-type {\n",
       "        vertical-align: middle;\n",
       "    }\n",
       "\n",
       "    .dataframe tbody tr th {\n",
       "        vertical-align: top;\n",
       "    }\n",
       "\n",
       "    .dataframe thead th {\n",
       "        text-align: right;\n",
       "    }\n",
       "</style>\n",
       "<table border=\"1\" class=\"dataframe\">\n",
       "  <thead>\n",
       "    <tr style=\"text-align: right;\">\n",
       "      <th></th>\n",
       "      <th>Entry Id</th>\n",
       "      <th>Name</th>\n",
       "      <th>Last</th>\n",
       "      <th>Full Email</th>\n",
       "      <th>Phone Number</th>\n",
       "      <th>Zip Code</th>\n",
       "      <th>Organization</th>\n",
       "      <th>Social Benefit</th>\n",
       "      <th>Comments:</th>\n",
       "      <th>Date Created</th>\n",
       "    </tr>\n",
       "  </thead>\n",
       "  <tbody>\n",
       "    <tr>\n",
       "      <th>1066</th>\n",
       "      <td>1</td>\n",
       "      <td>Unknown</td>\n",
       "      <td>Unknown</td>\n",
       "      <td>Unknown</td>\n",
       "      <td>Unknown</td>\n",
       "      <td>Unkno</td>\n",
       "      <td>Testers</td>\n",
       "      <td>Replace lost public sector revenue</td>\n",
       "      <td>Testing</td>\n",
       "      <td>05-14-2021</td>\n",
       "    </tr>\n",
       "    <tr>\n",
       "      <th>1142</th>\n",
       "      <td>227</td>\n",
       "      <td>Unknown</td>\n",
       "      <td>Unknown</td>\n",
       "      <td>Unknown</td>\n",
       "      <td>Unknown</td>\n",
       "      <td>207</td>\n",
       "      <td>Seven Counties Services</td>\n",
       "      <td>Support public health expenditures</td>\n",
       "      <td>_x000D_\\nI am writing to petition a spending i...</td>\n",
       "      <td>07-02-2021</td>\n",
       "    </tr>\n",
       "    <tr>\n",
       "      <th>1264</th>\n",
       "      <td>483</td>\n",
       "      <td>Unknown</td>\n",
       "      <td>Unknown</td>\n",
       "      <td>Unknown</td>\n",
       "      <td>Unknown</td>\n",
       "      <td>A</td>\n",
       "      <td>Anonymous Organization</td>\n",
       "      <td>Unidentified Benefit</td>\n",
       "      <td>No additional commentary</td>\n",
       "      <td>07-12-2021</td>\n",
       "    </tr>\n",
       "  </tbody>\n",
       "</table>\n",
       "</div>"
      ],
      "text/plain": [
       "      Entry Id     Name     Last Full Email Phone Number Zip Code  \\\n",
       "1066         1  Unknown  Unknown    Unknown      Unknown    Unkno   \n",
       "1142       227  Unknown  Unknown    Unknown      Unknown      207   \n",
       "1264       483  Unknown  Unknown    Unknown      Unknown        A   \n",
       "\n",
       "                 Organization                      Social Benefit  \\\n",
       "1066                 Testers   Replace lost public sector revenue   \n",
       "1142  Seven Counties Services  Support public health expenditures   \n",
       "1264   Anonymous Organization                Unidentified Benefit   \n",
       "\n",
       "                                              Comments: Date Created  \n",
       "1066                                           Testing    05-14-2021  \n",
       "1142  _x000D_\\nI am writing to petition a spending i...   07-02-2021  \n",
       "1264                           No additional commentary   07-12-2021  "
      ]
     },
     "execution_count": 202,
     "metadata": {},
     "output_type": "execute_result"
    }
   ],
   "source": [
    "# Create a DataFrame with the values that have fewer than 5 characters to assess whether to keep them\n",
    "df[(df['Zip Code'] == 'A') | (df['Zip Code'] == '207') | (df['Zip Code'] == 'Unkno')]"
   ]
  },
  {
   "cell_type": "code",
   "execution_count": 203,
   "id": "8a320df5",
   "metadata": {},
   "outputs": [],
   "source": [
    "# Drop the two rows deemed invalid data\n",
    "df.drop([1066, 1264], inplace=True)"
   ]
  },
  {
   "cell_type": "code",
   "execution_count": 204,
   "id": "96ea3f43",
   "metadata": {},
   "outputs": [],
   "source": [
    "# Coerce the Zip Code of the remaining row to match our 5 digit formatting (after checking the zip of Seven \n",
    "# Counties Services and discovering it is actually in 40204.)\n",
    "df['Zip Code'] = df['Zip Code'].map({'207':'40204'}).fillna(df['Zip Code'])"
   ]
  },
  {
   "cell_type": "code",
   "execution_count": 205,
   "id": "b2bc1f32",
   "metadata": {},
   "outputs": [
    {
     "data": {
      "text/html": [
       "<div>\n",
       "<style scoped>\n",
       "    .dataframe tbody tr th:only-of-type {\n",
       "        vertical-align: middle;\n",
       "    }\n",
       "\n",
       "    .dataframe tbody tr th {\n",
       "        vertical-align: top;\n",
       "    }\n",
       "\n",
       "    .dataframe thead th {\n",
       "        text-align: right;\n",
       "    }\n",
       "</style>\n",
       "<table border=\"1\" class=\"dataframe\">\n",
       "  <thead>\n",
       "    <tr style=\"text-align: right;\">\n",
       "      <th></th>\n",
       "      <th>Entry Id</th>\n",
       "      <th>Name</th>\n",
       "      <th>Last</th>\n",
       "      <th>Full Email</th>\n",
       "      <th>Phone Number</th>\n",
       "      <th>Zip Code</th>\n",
       "      <th>Organization</th>\n",
       "      <th>Social Benefit</th>\n",
       "      <th>Comments:</th>\n",
       "      <th>Date Created</th>\n",
       "    </tr>\n",
       "  </thead>\n",
       "  <tbody>\n",
       "    <tr>\n",
       "      <th>0</th>\n",
       "      <td>14</td>\n",
       "      <td>Marty</td>\n",
       "      <td>Merkel</td>\n",
       "      <td>mmerkel@jrarchitects.com</td>\n",
       "      <td>5025834697</td>\n",
       "      <td>40206</td>\n",
       "      <td>Anonymous Organization</td>\n",
       "      <td>Address negative economic impacts caused by th...</td>\n",
       "      <td>Fund LRDA, Louisville Downtown Residents Assoc...</td>\n",
       "      <td>06-10-2021</td>\n",
       "    </tr>\n",
       "    <tr>\n",
       "      <th>1</th>\n",
       "      <td>15</td>\n",
       "      <td>Unknown</td>\n",
       "      <td>Unknown</td>\n",
       "      <td>Unknown</td>\n",
       "      <td>Unknown</td>\n",
       "      <td>40218</td>\n",
       "      <td>Anonymous Organization</td>\n",
       "      <td>Address negative economic impacts caused by th...</td>\n",
       "      <td>The funds should be used for  negative economi...</td>\n",
       "      <td>06-10-2021</td>\n",
       "    </tr>\n",
       "    <tr>\n",
       "      <th>2</th>\n",
       "      <td>26</td>\n",
       "      <td>Unknown</td>\n",
       "      <td>Unknown</td>\n",
       "      <td>Unknown</td>\n",
       "      <td>Unknown</td>\n",
       "      <td>40217</td>\n",
       "      <td>Anonymous Organization</td>\n",
       "      <td>Address negative economic impacts caused by th...</td>\n",
       "      <td>Greg. Show me your checkbook and Iâ€™ll tell y...</td>\n",
       "      <td>06-11-2021</td>\n",
       "    </tr>\n",
       "  </tbody>\n",
       "</table>\n",
       "</div>"
      ],
      "text/plain": [
       "   Entry Id     Name     Last                Full Email Phone Number Zip Code  \\\n",
       "0        14    Marty   Merkel  mmerkel@jrarchitects.com   5025834697    40206   \n",
       "1        15  Unknown  Unknown                   Unknown      Unknown    40218   \n",
       "2        26  Unknown  Unknown                   Unknown      Unknown    40217   \n",
       "\n",
       "             Organization                                     Social Benefit  \\\n",
       "0  Anonymous Organization  Address negative economic impacts caused by th...   \n",
       "1  Anonymous Organization  Address negative economic impacts caused by th...   \n",
       "2  Anonymous Organization  Address negative economic impacts caused by th...   \n",
       "\n",
       "                                           Comments: Date Created  \n",
       "0  Fund LRDA, Louisville Downtown Residents Assoc...   06-10-2021  \n",
       "1  The funds should be used for  negative economi...   06-10-2021  \n",
       "2  Greg. Show me your checkbook and Iâ€™ll tell y...   06-11-2021  "
      ]
     },
     "execution_count": 205,
     "metadata": {},
     "output_type": "execute_result"
    }
   ],
   "source": [
    "df.head(3)"
   ]
  },
  {
   "cell_type": "code",
   "execution_count": 206,
   "id": "32c23139",
   "metadata": {},
   "outputs": [
    {
     "data": {
      "text/plain": [
       "Organization\n",
       "Anonymous Organization     561\n",
       "CLOUT                       47\n",
       "LMDC                        27\n",
       "Louisville Zoo              22\n",
       "Seven Counties Services     21\n",
       "                          ... \n",
       "THE TAXPAYERS                1\n",
       "clout                        1\n",
       "Grow, LLC                    1\n",
       "AMPED                        1\n",
       "Louisville Y.A.B.            1\n",
       "Name: count, Length: 449, dtype: int64"
      ]
     },
     "execution_count": 206,
     "metadata": {},
     "output_type": "execute_result"
    }
   ],
   "source": [
    "# Show a current count of values present in the Organization column\n",
    "df['Organization'].value_counts()"
   ]
  },
  {
   "cell_type": "code",
   "execution_count": 207,
   "id": "1eefc8fa",
   "metadata": {},
   "outputs": [],
   "source": [
    "# I had received erros indicating that there were non-string values in the column, so I applied this to correct\n",
    "df['Organization'] = df['Organization'].astype(str)"
   ]
  },
  {
   "cell_type": "code",
   "execution_count": 208,
   "id": "d07b1358",
   "metadata": {},
   "outputs": [
    {
     "name": "stdout",
     "output_type": "stream",
     "text": [
      "375 Metro government workers (Health and Wellness, Zoo, OMB, IT, Corrections, Parks, Air Pollution and Control, Animal Services, Community Resilience, Revenue, Develop Louisville, YTS)\n",
      "1194 I thinl you guys needs to make sure public housing is affordable for the mental ill and give the Home provider more money that take care of the mental disability in there home food has gone  and they didn't get anymore money for food and board ..\n",
      "1195 I am a social work professor and former chair of the boards of directors for the Coalition for the Homeless and Metropolitan Housing Coalition.  While this response is informed by those experiences, it represents my thoughts and opinions only.\n",
      "1317  Louisville Family Justice Advocates---Retired KY prison system employee. (Probation and Parole Officer in Louisville) \n"
     ]
    }
   ],
   "source": [
    "# Find values in the Organization column that contain > 100 characters\n",
    "for i, j in df[['Entry Id', 'Organization']].iterrows():\n",
    "    if len(j['Organization']) > 100:\n",
    "        print(i, j['Organization'])"
   ]
  },
  {
   "cell_type": "code",
   "execution_count": 209,
   "id": "ad438f12",
   "metadata": {},
   "outputs": [
    {
     "data": {
      "text/html": [
       "<div>\n",
       "<style scoped>\n",
       "    .dataframe tbody tr th:only-of-type {\n",
       "        vertical-align: middle;\n",
       "    }\n",
       "\n",
       "    .dataframe tbody tr th {\n",
       "        vertical-align: top;\n",
       "    }\n",
       "\n",
       "    .dataframe thead th {\n",
       "        text-align: right;\n",
       "    }\n",
       "</style>\n",
       "<table border=\"1\" class=\"dataframe\">\n",
       "  <thead>\n",
       "    <tr style=\"text-align: right;\">\n",
       "      <th></th>\n",
       "      <th>Entry Id</th>\n",
       "      <th>Name</th>\n",
       "      <th>Last</th>\n",
       "      <th>Full Email</th>\n",
       "      <th>Phone Number</th>\n",
       "      <th>Zip Code</th>\n",
       "      <th>Organization</th>\n",
       "      <th>Social Benefit</th>\n",
       "      <th>Comments:</th>\n",
       "      <th>Date Created</th>\n",
       "    </tr>\n",
       "  </thead>\n",
       "  <tbody>\n",
       "    <tr>\n",
       "      <th>375</th>\n",
       "      <td>271</td>\n",
       "      <td>Unknown</td>\n",
       "      <td>Unknown</td>\n",
       "      <td>Unknown</td>\n",
       "      <td>Unknown</td>\n",
       "      <td>40059</td>\n",
       "      <td>Metro government workers (Health and Wellness,...</td>\n",
       "      <td>Provide premium pay for essential workers</td>\n",
       "      <td>Many metro workers kept working in person thro...</td>\n",
       "      <td>07-03-2021</td>\n",
       "    </tr>\n",
       "    <tr>\n",
       "      <th>1194</th>\n",
       "      <td>1171</td>\n",
       "      <td>Unknown</td>\n",
       "      <td>Unknown</td>\n",
       "      <td>Unknown</td>\n",
       "      <td>Unknown</td>\n",
       "      <td>40241</td>\n",
       "      <td>I thinl you guys needs to make sure public hou...</td>\n",
       "      <td>Support public health expenditures</td>\n",
       "      <td>Mental Health is serious and  the one that tak...</td>\n",
       "      <td>07-26-2021</td>\n",
       "    </tr>\n",
       "    <tr>\n",
       "      <th>1195</th>\n",
       "      <td>1174</td>\n",
       "      <td>Unknown</td>\n",
       "      <td>Unknown</td>\n",
       "      <td>Unknown</td>\n",
       "      <td>Unknown</td>\n",
       "      <td>47122</td>\n",
       "      <td>I am a social work professor and former chair ...</td>\n",
       "      <td>Support public health expenditures</td>\n",
       "      <td>Housing and health are inextricably related.  ...</td>\n",
       "      <td>07-26-2021</td>\n",
       "    </tr>\n",
       "    <tr>\n",
       "      <th>1317</th>\n",
       "      <td>1229</td>\n",
       "      <td>Unknown</td>\n",
       "      <td>Unknown</td>\n",
       "      <td>Unknown</td>\n",
       "      <td>Unknown</td>\n",
       "      <td>40206</td>\n",
       "      <td>Louisville Family Justice Advocates---Retired...</td>\n",
       "      <td>Unidentified Benefit</td>\n",
       "      <td>Louisville should do all it can to help inmate...</td>\n",
       "      <td>07-27-2021</td>\n",
       "    </tr>\n",
       "  </tbody>\n",
       "</table>\n",
       "</div>"
      ],
      "text/plain": [
       "      Entry Id     Name     Last Full Email Phone Number Zip Code  \\\n",
       "375        271  Unknown  Unknown    Unknown      Unknown    40059   \n",
       "1194      1171  Unknown  Unknown    Unknown      Unknown    40241   \n",
       "1195      1174  Unknown  Unknown    Unknown      Unknown    47122   \n",
       "1317      1229  Unknown  Unknown    Unknown      Unknown    40206   \n",
       "\n",
       "                                           Organization  \\\n",
       "375   Metro government workers (Health and Wellness,...   \n",
       "1194  I thinl you guys needs to make sure public hou...   \n",
       "1195  I am a social work professor and former chair ...   \n",
       "1317   Louisville Family Justice Advocates---Retired...   \n",
       "\n",
       "                                 Social Benefit  \\\n",
       "375   Provide premium pay for essential workers   \n",
       "1194         Support public health expenditures   \n",
       "1195         Support public health expenditures   \n",
       "1317                       Unidentified Benefit   \n",
       "\n",
       "                                              Comments: Date Created  \n",
       "375   Many metro workers kept working in person thro...   07-03-2021  \n",
       "1194  Mental Health is serious and  the one that tak...   07-26-2021  \n",
       "1195  Housing and health are inextricably related.  ...   07-26-2021  \n",
       "1317  Louisville should do all it can to help inmate...   07-27-2021  "
      ]
     },
     "execution_count": 209,
     "metadata": {},
     "output_type": "execute_result"
    }
   ],
   "source": [
    "# Inspect the long values we observed earlier\n",
    "df[df.index.isin([375, 1194, 1195, 1317])]"
   ]
  },
  {
   "cell_type": "code",
   "execution_count": 210,
   "id": "27a74c43",
   "metadata": {},
   "outputs": [],
   "source": [
    "# Coerce these long values into something more appropriate for categorization\n",
    "df.loc[375, 'Organization'] = 'Metro Government Workers'\n",
    "df.loc[1194, 'Organization'] = 'Citizen'\n",
    "df.loc[1195, 'Organization'] = 'Citizen'\n",
    "df.loc[1317, 'Organization'] = 'Louisville Family Justice Advocates'"
   ]
  },
  {
   "cell_type": "code",
   "execution_count": 211,
   "id": "b03e7dbb",
   "metadata": {},
   "outputs": [
    {
     "data": {
      "application/vnd.plotly.v1+json": {
       "config": {
        "plotlyServerURL": "https://plot.ly"
       },
       "data": [
        {
         "hovertemplate": "variable=count<br>Organization=%{x}<br># of ARP Applications=%{y}<extra></extra>",
         "legendgroup": "count",
         "marker": {
          "color": "#636efa",
          "pattern": {
           "shape": ""
          }
         },
         "name": "count",
         "orientation": "v",
         "showlegend": true,
         "textposition": "auto",
         "texttemplate": "%{y}",
         "type": "bar",
         "x": [
          "CLOUT",
          "LMDC",
          "Louisville Zoo",
          "Seven Counties Services",
          "Louisville Metro Department of Corrections",
          "LMPHW",
          "LFD",
          "Office of Resilience and Community Services",
          "Citizen",
          "Corrections",
          "Louisville Fire",
          "Louisville Fire Department ",
          "Louisville Metro Corrections",
          "Louisville Metro Department of Corrections ",
          "Metro Corrections ",
          "Louisville Metro Government",
          "Louisville fire",
          "Seven Counties",
          "RCS",
          "Metro Corrections",
          "Select",
          "Clout",
          "Lmdc",
          "LMDC ",
          "Louisville Water Company "
         ],
         "xaxis": "x",
         "y": {
          "bdata": "LxsWFQ0LCwoJCQkIBwcGBgUFBQUFBAQEBA==",
          "dtype": "i1"
         },
         "yaxis": "y"
        }
       ],
       "layout": {
        "barmode": "relative",
        "legend": {
         "title": {
          "text": "variable"
         },
         "tracegroupgap": 0
        },
        "margin": {
         "t": 60
        },
        "showlegend": false,
        "template": {
         "data": {
          "bar": [
           {
            "error_x": {
             "color": "#2a3f5f"
            },
            "error_y": {
             "color": "#2a3f5f"
            },
            "marker": {
             "line": {
              "color": "#E5ECF6",
              "width": 0.5
             },
             "pattern": {
              "fillmode": "overlay",
              "size": 10,
              "solidity": 0.2
             }
            },
            "type": "bar"
           }
          ],
          "barpolar": [
           {
            "marker": {
             "line": {
              "color": "#E5ECF6",
              "width": 0.5
             },
             "pattern": {
              "fillmode": "overlay",
              "size": 10,
              "solidity": 0.2
             }
            },
            "type": "barpolar"
           }
          ],
          "carpet": [
           {
            "aaxis": {
             "endlinecolor": "#2a3f5f",
             "gridcolor": "white",
             "linecolor": "white",
             "minorgridcolor": "white",
             "startlinecolor": "#2a3f5f"
            },
            "baxis": {
             "endlinecolor": "#2a3f5f",
             "gridcolor": "white",
             "linecolor": "white",
             "minorgridcolor": "white",
             "startlinecolor": "#2a3f5f"
            },
            "type": "carpet"
           }
          ],
          "choropleth": [
           {
            "colorbar": {
             "outlinewidth": 0,
             "ticks": ""
            },
            "type": "choropleth"
           }
          ],
          "contour": [
           {
            "colorbar": {
             "outlinewidth": 0,
             "ticks": ""
            },
            "colorscale": [
             [
              0,
              "#0d0887"
             ],
             [
              0.1111111111111111,
              "#46039f"
             ],
             [
              0.2222222222222222,
              "#7201a8"
             ],
             [
              0.3333333333333333,
              "#9c179e"
             ],
             [
              0.4444444444444444,
              "#bd3786"
             ],
             [
              0.5555555555555556,
              "#d8576b"
             ],
             [
              0.6666666666666666,
              "#ed7953"
             ],
             [
              0.7777777777777778,
              "#fb9f3a"
             ],
             [
              0.8888888888888888,
              "#fdca26"
             ],
             [
              1,
              "#f0f921"
             ]
            ],
            "type": "contour"
           }
          ],
          "contourcarpet": [
           {
            "colorbar": {
             "outlinewidth": 0,
             "ticks": ""
            },
            "type": "contourcarpet"
           }
          ],
          "heatmap": [
           {
            "colorbar": {
             "outlinewidth": 0,
             "ticks": ""
            },
            "colorscale": [
             [
              0,
              "#0d0887"
             ],
             [
              0.1111111111111111,
              "#46039f"
             ],
             [
              0.2222222222222222,
              "#7201a8"
             ],
             [
              0.3333333333333333,
              "#9c179e"
             ],
             [
              0.4444444444444444,
              "#bd3786"
             ],
             [
              0.5555555555555556,
              "#d8576b"
             ],
             [
              0.6666666666666666,
              "#ed7953"
             ],
             [
              0.7777777777777778,
              "#fb9f3a"
             ],
             [
              0.8888888888888888,
              "#fdca26"
             ],
             [
              1,
              "#f0f921"
             ]
            ],
            "type": "heatmap"
           }
          ],
          "histogram": [
           {
            "marker": {
             "pattern": {
              "fillmode": "overlay",
              "size": 10,
              "solidity": 0.2
             }
            },
            "type": "histogram"
           }
          ],
          "histogram2d": [
           {
            "colorbar": {
             "outlinewidth": 0,
             "ticks": ""
            },
            "colorscale": [
             [
              0,
              "#0d0887"
             ],
             [
              0.1111111111111111,
              "#46039f"
             ],
             [
              0.2222222222222222,
              "#7201a8"
             ],
             [
              0.3333333333333333,
              "#9c179e"
             ],
             [
              0.4444444444444444,
              "#bd3786"
             ],
             [
              0.5555555555555556,
              "#d8576b"
             ],
             [
              0.6666666666666666,
              "#ed7953"
             ],
             [
              0.7777777777777778,
              "#fb9f3a"
             ],
             [
              0.8888888888888888,
              "#fdca26"
             ],
             [
              1,
              "#f0f921"
             ]
            ],
            "type": "histogram2d"
           }
          ],
          "histogram2dcontour": [
           {
            "colorbar": {
             "outlinewidth": 0,
             "ticks": ""
            },
            "colorscale": [
             [
              0,
              "#0d0887"
             ],
             [
              0.1111111111111111,
              "#46039f"
             ],
             [
              0.2222222222222222,
              "#7201a8"
             ],
             [
              0.3333333333333333,
              "#9c179e"
             ],
             [
              0.4444444444444444,
              "#bd3786"
             ],
             [
              0.5555555555555556,
              "#d8576b"
             ],
             [
              0.6666666666666666,
              "#ed7953"
             ],
             [
              0.7777777777777778,
              "#fb9f3a"
             ],
             [
              0.8888888888888888,
              "#fdca26"
             ],
             [
              1,
              "#f0f921"
             ]
            ],
            "type": "histogram2dcontour"
           }
          ],
          "mesh3d": [
           {
            "colorbar": {
             "outlinewidth": 0,
             "ticks": ""
            },
            "type": "mesh3d"
           }
          ],
          "parcoords": [
           {
            "line": {
             "colorbar": {
              "outlinewidth": 0,
              "ticks": ""
             }
            },
            "type": "parcoords"
           }
          ],
          "pie": [
           {
            "automargin": true,
            "type": "pie"
           }
          ],
          "scatter": [
           {
            "fillpattern": {
             "fillmode": "overlay",
             "size": 10,
             "solidity": 0.2
            },
            "type": "scatter"
           }
          ],
          "scatter3d": [
           {
            "line": {
             "colorbar": {
              "outlinewidth": 0,
              "ticks": ""
             }
            },
            "marker": {
             "colorbar": {
              "outlinewidth": 0,
              "ticks": ""
             }
            },
            "type": "scatter3d"
           }
          ],
          "scattercarpet": [
           {
            "marker": {
             "colorbar": {
              "outlinewidth": 0,
              "ticks": ""
             }
            },
            "type": "scattercarpet"
           }
          ],
          "scattergeo": [
           {
            "marker": {
             "colorbar": {
              "outlinewidth": 0,
              "ticks": ""
             }
            },
            "type": "scattergeo"
           }
          ],
          "scattergl": [
           {
            "marker": {
             "colorbar": {
              "outlinewidth": 0,
              "ticks": ""
             }
            },
            "type": "scattergl"
           }
          ],
          "scattermap": [
           {
            "marker": {
             "colorbar": {
              "outlinewidth": 0,
              "ticks": ""
             }
            },
            "type": "scattermap"
           }
          ],
          "scattermapbox": [
           {
            "marker": {
             "colorbar": {
              "outlinewidth": 0,
              "ticks": ""
             }
            },
            "type": "scattermapbox"
           }
          ],
          "scatterpolar": [
           {
            "marker": {
             "colorbar": {
              "outlinewidth": 0,
              "ticks": ""
             }
            },
            "type": "scatterpolar"
           }
          ],
          "scatterpolargl": [
           {
            "marker": {
             "colorbar": {
              "outlinewidth": 0,
              "ticks": ""
             }
            },
            "type": "scatterpolargl"
           }
          ],
          "scatterternary": [
           {
            "marker": {
             "colorbar": {
              "outlinewidth": 0,
              "ticks": ""
             }
            },
            "type": "scatterternary"
           }
          ],
          "surface": [
           {
            "colorbar": {
             "outlinewidth": 0,
             "ticks": ""
            },
            "colorscale": [
             [
              0,
              "#0d0887"
             ],
             [
              0.1111111111111111,
              "#46039f"
             ],
             [
              0.2222222222222222,
              "#7201a8"
             ],
             [
              0.3333333333333333,
              "#9c179e"
             ],
             [
              0.4444444444444444,
              "#bd3786"
             ],
             [
              0.5555555555555556,
              "#d8576b"
             ],
             [
              0.6666666666666666,
              "#ed7953"
             ],
             [
              0.7777777777777778,
              "#fb9f3a"
             ],
             [
              0.8888888888888888,
              "#fdca26"
             ],
             [
              1,
              "#f0f921"
             ]
            ],
            "type": "surface"
           }
          ],
          "table": [
           {
            "cells": {
             "fill": {
              "color": "#EBF0F8"
             },
             "line": {
              "color": "white"
             }
            },
            "header": {
             "fill": {
              "color": "#C8D4E3"
             },
             "line": {
              "color": "white"
             }
            },
            "type": "table"
           }
          ]
         },
         "layout": {
          "annotationdefaults": {
           "arrowcolor": "#2a3f5f",
           "arrowhead": 0,
           "arrowwidth": 1
          },
          "autotypenumbers": "strict",
          "coloraxis": {
           "colorbar": {
            "outlinewidth": 0,
            "ticks": ""
           }
          },
          "colorscale": {
           "diverging": [
            [
             0,
             "#8e0152"
            ],
            [
             0.1,
             "#c51b7d"
            ],
            [
             0.2,
             "#de77ae"
            ],
            [
             0.3,
             "#f1b6da"
            ],
            [
             0.4,
             "#fde0ef"
            ],
            [
             0.5,
             "#f7f7f7"
            ],
            [
             0.6,
             "#e6f5d0"
            ],
            [
             0.7,
             "#b8e186"
            ],
            [
             0.8,
             "#7fbc41"
            ],
            [
             0.9,
             "#4d9221"
            ],
            [
             1,
             "#276419"
            ]
           ],
           "sequential": [
            [
             0,
             "#0d0887"
            ],
            [
             0.1111111111111111,
             "#46039f"
            ],
            [
             0.2222222222222222,
             "#7201a8"
            ],
            [
             0.3333333333333333,
             "#9c179e"
            ],
            [
             0.4444444444444444,
             "#bd3786"
            ],
            [
             0.5555555555555556,
             "#d8576b"
            ],
            [
             0.6666666666666666,
             "#ed7953"
            ],
            [
             0.7777777777777778,
             "#fb9f3a"
            ],
            [
             0.8888888888888888,
             "#fdca26"
            ],
            [
             1,
             "#f0f921"
            ]
           ],
           "sequentialminus": [
            [
             0,
             "#0d0887"
            ],
            [
             0.1111111111111111,
             "#46039f"
            ],
            [
             0.2222222222222222,
             "#7201a8"
            ],
            [
             0.3333333333333333,
             "#9c179e"
            ],
            [
             0.4444444444444444,
             "#bd3786"
            ],
            [
             0.5555555555555556,
             "#d8576b"
            ],
            [
             0.6666666666666666,
             "#ed7953"
            ],
            [
             0.7777777777777778,
             "#fb9f3a"
            ],
            [
             0.8888888888888888,
             "#fdca26"
            ],
            [
             1,
             "#f0f921"
            ]
           ]
          },
          "colorway": [
           "#636efa",
           "#EF553B",
           "#00cc96",
           "#ab63fa",
           "#FFA15A",
           "#19d3f3",
           "#FF6692",
           "#B6E880",
           "#FF97FF",
           "#FECB52"
          ],
          "font": {
           "color": "#2a3f5f"
          },
          "geo": {
           "bgcolor": "white",
           "lakecolor": "white",
           "landcolor": "#E5ECF6",
           "showlakes": true,
           "showland": true,
           "subunitcolor": "white"
          },
          "hoverlabel": {
           "align": "left"
          },
          "hovermode": "closest",
          "mapbox": {
           "style": "light"
          },
          "paper_bgcolor": "white",
          "plot_bgcolor": "#E5ECF6",
          "polar": {
           "angularaxis": {
            "gridcolor": "white",
            "linecolor": "white",
            "ticks": ""
           },
           "bgcolor": "#E5ECF6",
           "radialaxis": {
            "gridcolor": "white",
            "linecolor": "white",
            "ticks": ""
           }
          },
          "scene": {
           "xaxis": {
            "backgroundcolor": "#E5ECF6",
            "gridcolor": "white",
            "gridwidth": 2,
            "linecolor": "white",
            "showbackground": true,
            "ticks": "",
            "zerolinecolor": "white"
           },
           "yaxis": {
            "backgroundcolor": "#E5ECF6",
            "gridcolor": "white",
            "gridwidth": 2,
            "linecolor": "white",
            "showbackground": true,
            "ticks": "",
            "zerolinecolor": "white"
           },
           "zaxis": {
            "backgroundcolor": "#E5ECF6",
            "gridcolor": "white",
            "gridwidth": 2,
            "linecolor": "white",
            "showbackground": true,
            "ticks": "",
            "zerolinecolor": "white"
           }
          },
          "shapedefaults": {
           "line": {
            "color": "#2a3f5f"
           }
          },
          "ternary": {
           "aaxis": {
            "gridcolor": "white",
            "linecolor": "white",
            "ticks": ""
           },
           "baxis": {
            "gridcolor": "white",
            "linecolor": "white",
            "ticks": ""
           },
           "bgcolor": "#E5ECF6",
           "caxis": {
            "gridcolor": "white",
            "linecolor": "white",
            "ticks": ""
           }
          },
          "title": {
           "x": 0.05
          },
          "xaxis": {
           "automargin": true,
           "gridcolor": "white",
           "linecolor": "white",
           "ticks": "",
           "title": {
            "standoff": 15
           },
           "zerolinecolor": "white",
           "zerolinewidth": 2
          },
          "yaxis": {
           "automargin": true,
           "gridcolor": "white",
           "linecolor": "white",
           "ticks": "",
           "title": {
            "standoff": 15
           },
           "zerolinecolor": "white",
           "zerolinewidth": 2
          }
         }
        },
        "xaxis": {
         "anchor": "y",
         "domain": [
          0,
          1
         ],
         "title": {
          "text": "Organization"
         }
        },
        "yaxis": {
         "anchor": "x",
         "domain": [
          0,
          1
         ],
         "title": {
          "text": "# of ARP Applications"
         }
        }
       }
      }
     },
     "metadata": {},
     "output_type": "display_data"
    }
   ],
   "source": [
    "# Answer the Who!\n",
    "\n",
    "# Plot the top 25 organizations by # of ARP Applications submitted\n",
    "px.bar(df[df['Organization'] != 'Anonymous Organization']['Organization'].value_counts()[:25],\n",
    "       text_auto=True,\n",
    "       labels= {'value':'# of ARP Applications'}).update_layout(showlegend=False)\n",
    "\n",
    "# I want to illustrate to students the phenomena of values that should be bucketed like 'department of corrections' and 'LMDC'"
   ]
  },
  {
   "cell_type": "code",
   "execution_count": 212,
   "id": "616bd3c4",
   "metadata": {},
   "outputs": [
    {
     "data": {
      "text/html": [
       "<div>\n",
       "<style scoped>\n",
       "    .dataframe tbody tr th:only-of-type {\n",
       "        vertical-align: middle;\n",
       "    }\n",
       "\n",
       "    .dataframe tbody tr th {\n",
       "        vertical-align: top;\n",
       "    }\n",
       "\n",
       "    .dataframe thead th {\n",
       "        text-align: right;\n",
       "    }\n",
       "</style>\n",
       "<table border=\"1\" class=\"dataframe\">\n",
       "  <thead>\n",
       "    <tr style=\"text-align: right;\">\n",
       "      <th></th>\n",
       "      <th>Entry Id</th>\n",
       "      <th>Name</th>\n",
       "      <th>Last</th>\n",
       "      <th>Full Email</th>\n",
       "      <th>Phone Number</th>\n",
       "      <th>Zip Code</th>\n",
       "      <th>Organization</th>\n",
       "      <th>Social Benefit</th>\n",
       "      <th>Comments:</th>\n",
       "      <th>Date Created</th>\n",
       "    </tr>\n",
       "  </thead>\n",
       "  <tbody>\n",
       "    <tr>\n",
       "      <th>594</th>\n",
       "      <td>579</td>\n",
       "      <td>Unknown</td>\n",
       "      <td>Unknown</td>\n",
       "      <td>Unknown</td>\n",
       "      <td>Unknown</td>\n",
       "      <td>40228</td>\n",
       "      <td>Louisville Fire Department</td>\n",
       "      <td>Provide premium pay for essential workers</td>\n",
       "      <td>No additional commentary</td>\n",
       "      <td>07-13-2021</td>\n",
       "    </tr>\n",
       "    <tr>\n",
       "      <th>595</th>\n",
       "      <td>580</td>\n",
       "      <td>Unknown</td>\n",
       "      <td>Unknown</td>\n",
       "      <td>Unknown</td>\n",
       "      <td>Unknown</td>\n",
       "      <td>40214</td>\n",
       "      <td>Fire</td>\n",
       "      <td>Provide premium pay for essential workers</td>\n",
       "      <td>Please provide premium pay for essential worke...</td>\n",
       "      <td>07-13-2021</td>\n",
       "    </tr>\n",
       "    <tr>\n",
       "      <th>602</th>\n",
       "      <td>587</td>\n",
       "      <td>Unknown</td>\n",
       "      <td>Unknown</td>\n",
       "      <td>Unknown</td>\n",
       "      <td>Unknown</td>\n",
       "      <td>40217</td>\n",
       "      <td>Louisville Division of Fire</td>\n",
       "      <td>Provide premium pay for essential workers</td>\n",
       "      <td>No additional commentary</td>\n",
       "      <td>07-13-2021</td>\n",
       "    </tr>\n",
       "    <tr>\n",
       "      <th>606</th>\n",
       "      <td>592</td>\n",
       "      <td>Unknown</td>\n",
       "      <td>Unknown</td>\n",
       "      <td>Unknown</td>\n",
       "      <td>Unknown</td>\n",
       "      <td>40203</td>\n",
       "      <td>Louisville Fire dept</td>\n",
       "      <td>Provide premium pay for essential workers</td>\n",
       "      <td>No additional commentary</td>\n",
       "      <td>07-13-2021</td>\n",
       "    </tr>\n",
       "    <tr>\n",
       "      <th>609</th>\n",
       "      <td>595</td>\n",
       "      <td>Donald</td>\n",
       "      <td>Sorg</td>\n",
       "      <td>donald.sorg@louisvilleky.gov</td>\n",
       "      <td>5024579828</td>\n",
       "      <td>40023</td>\n",
       "      <td>Fire</td>\n",
       "      <td>Provide premium pay for essential workers</td>\n",
       "      <td>No additional commentary</td>\n",
       "      <td>07-13-2021</td>\n",
       "    </tr>\n",
       "    <tr>\n",
       "      <th>611</th>\n",
       "      <td>598</td>\n",
       "      <td>Unknown</td>\n",
       "      <td>Unknown</td>\n",
       "      <td>Unknown</td>\n",
       "      <td>Unknown</td>\n",
       "      <td>40228</td>\n",
       "      <td>Louisville Fire &amp; Rescue</td>\n",
       "      <td>Provide premium pay for essential workers</td>\n",
       "      <td>No additional commentary</td>\n",
       "      <td>07-13-2021</td>\n",
       "    </tr>\n",
       "    <tr>\n",
       "      <th>621</th>\n",
       "      <td>607</td>\n",
       "      <td>Geoffrey</td>\n",
       "      <td>McNulty</td>\n",
       "      <td>geoffrey.mcnulty@louisvilleky.gov</td>\n",
       "      <td>5026497696</td>\n",
       "      <td>40214</td>\n",
       "      <td>Louisville Fire</td>\n",
       "      <td>Provide premium pay for essential workers</td>\n",
       "      <td>No additional commentary</td>\n",
       "      <td>07-13-2021</td>\n",
       "    </tr>\n",
       "    <tr>\n",
       "      <th>626</th>\n",
       "      <td>613</td>\n",
       "      <td>Tamara</td>\n",
       "      <td>Stewart</td>\n",
       "      <td>tamara.stewart@louisvilleky.gov</td>\n",
       "      <td>5027278831</td>\n",
       "      <td>40299</td>\n",
       "      <td>Louisville Division of Fire</td>\n",
       "      <td>Provide premium pay for essential workers</td>\n",
       "      <td>No additional commentary</td>\n",
       "      <td>07-13-2021</td>\n",
       "    </tr>\n",
       "    <tr>\n",
       "      <th>627</th>\n",
       "      <td>614</td>\n",
       "      <td>Erik</td>\n",
       "      <td>Sturgeon</td>\n",
       "      <td>erik.sturgeon@louisvilleky.gov</td>\n",
       "      <td>5026093819</td>\n",
       "      <td>40223</td>\n",
       "      <td>Louisville Fire Department</td>\n",
       "      <td>Provide premium pay for essential workers</td>\n",
       "      <td>No additional commentary</td>\n",
       "      <td>07-13-2021</td>\n",
       "    </tr>\n",
       "    <tr>\n",
       "      <th>631</th>\n",
       "      <td>617</td>\n",
       "      <td>Jason</td>\n",
       "      <td>Sanders</td>\n",
       "      <td>jason.sanders@louisvilleky.gov</td>\n",
       "      <td>5022964615</td>\n",
       "      <td>40214</td>\n",
       "      <td>Louisville Fire Department</td>\n",
       "      <td>Provide premium pay for essential workers</td>\n",
       "      <td>No additional commentary</td>\n",
       "      <td>07-13-2021</td>\n",
       "    </tr>\n",
       "    <tr>\n",
       "      <th>632</th>\n",
       "      <td>619</td>\n",
       "      <td>Unknown</td>\n",
       "      <td>Unknown</td>\n",
       "      <td>Unknown</td>\n",
       "      <td>Unknown</td>\n",
       "      <td>40299</td>\n",
       "      <td>Louisville Fire &amp; Rescue</td>\n",
       "      <td>Provide premium pay for essential workers</td>\n",
       "      <td>No additional commentary</td>\n",
       "      <td>07-13-2021</td>\n",
       "    </tr>\n",
       "    <tr>\n",
       "      <th>633</th>\n",
       "      <td>620</td>\n",
       "      <td>Unknown</td>\n",
       "      <td>Unknown</td>\n",
       "      <td>Unknown</td>\n",
       "      <td>Unknown</td>\n",
       "      <td>40222</td>\n",
       "      <td>Louisville Fire and Rescue</td>\n",
       "      <td>Provide premium pay for essential workers</td>\n",
       "      <td>No additional commentary</td>\n",
       "      <td>07-13-2021</td>\n",
       "    </tr>\n",
       "    <tr>\n",
       "      <th>634</th>\n",
       "      <td>621</td>\n",
       "      <td>Unknown</td>\n",
       "      <td>Unknown</td>\n",
       "      <td>Unknown</td>\n",
       "      <td>Unknown</td>\n",
       "      <td>40245</td>\n",
       "      <td>Louisville Fire</td>\n",
       "      <td>Provide premium pay for essential workers</td>\n",
       "      <td>No additional commentary</td>\n",
       "      <td>07-13-2021</td>\n",
       "    </tr>\n",
       "    <tr>\n",
       "      <th>636</th>\n",
       "      <td>623</td>\n",
       "      <td>Gary</td>\n",
       "      <td>Haley</td>\n",
       "      <td>gary.haley@louisvilleky.gov</td>\n",
       "      <td>5028675309</td>\n",
       "      <td>40272</td>\n",
       "      <td>Louisville Fire Department</td>\n",
       "      <td>Provide premium pay for essential workers</td>\n",
       "      <td>No additional commentary</td>\n",
       "      <td>07-13-2021</td>\n",
       "    </tr>\n",
       "    <tr>\n",
       "      <th>640</th>\n",
       "      <td>627</td>\n",
       "      <td>Unknown</td>\n",
       "      <td>Unknown</td>\n",
       "      <td>Unknown</td>\n",
       "      <td>Unknown</td>\n",
       "      <td>40291</td>\n",
       "      <td>Louisville Fire Department</td>\n",
       "      <td>Provide premium pay for essential workers</td>\n",
       "      <td>No additional commentary</td>\n",
       "      <td>07-13-2021</td>\n",
       "    </tr>\n",
       "    <tr>\n",
       "      <th>644</th>\n",
       "      <td>631</td>\n",
       "      <td>Unknown</td>\n",
       "      <td>Unknown</td>\n",
       "      <td>Unknown</td>\n",
       "      <td>Unknown</td>\n",
       "      <td>40214</td>\n",
       "      <td>Louisville Firefighters</td>\n",
       "      <td>Provide premium pay for essential workers</td>\n",
       "      <td>While most of the population was home, firefig...</td>\n",
       "      <td>07-13-2021</td>\n",
       "    </tr>\n",
       "    <tr>\n",
       "      <th>645</th>\n",
       "      <td>630</td>\n",
       "      <td>Unknown</td>\n",
       "      <td>Unknown</td>\n",
       "      <td>Unknown</td>\n",
       "      <td>Unknown</td>\n",
       "      <td>40299</td>\n",
       "      <td>Fire department</td>\n",
       "      <td>Provide premium pay for essential workers</td>\n",
       "      <td>No additional commentary</td>\n",
       "      <td>07-13-2021</td>\n",
       "    </tr>\n",
       "    <tr>\n",
       "      <th>649</th>\n",
       "      <td>634</td>\n",
       "      <td>Unknown</td>\n",
       "      <td>Unknown</td>\n",
       "      <td>Unknown</td>\n",
       "      <td>Unknown</td>\n",
       "      <td>40047</td>\n",
       "      <td>Louisville Fire</td>\n",
       "      <td>Provide premium pay for essential workers</td>\n",
       "      <td>No additional commentary</td>\n",
       "      <td>07-13-2021</td>\n",
       "    </tr>\n",
       "    <tr>\n",
       "      <th>662</th>\n",
       "      <td>649</td>\n",
       "      <td>Unknown</td>\n",
       "      <td>Unknown</td>\n",
       "      <td>Unknown</td>\n",
       "      <td>Unknown</td>\n",
       "      <td>40299</td>\n",
       "      <td>Louisville Firefighter</td>\n",
       "      <td>Provide premium pay for essential workers</td>\n",
       "      <td>No additional commentary</td>\n",
       "      <td>07-13-2021</td>\n",
       "    </tr>\n",
       "    <tr>\n",
       "      <th>681</th>\n",
       "      <td>669</td>\n",
       "      <td>Griffin</td>\n",
       "      <td>Liford</td>\n",
       "      <td>wessley.liford@louisvilleky.gov</td>\n",
       "      <td>5028173207</td>\n",
       "      <td>40031</td>\n",
       "      <td>Louisville Fire</td>\n",
       "      <td>Provide premium pay for essential workers</td>\n",
       "      <td>No additional commentary</td>\n",
       "      <td>07-13-2021</td>\n",
       "    </tr>\n",
       "    <tr>\n",
       "      <th>687</th>\n",
       "      <td>675</td>\n",
       "      <td>Unknown</td>\n",
       "      <td>Unknown</td>\n",
       "      <td>Unknown</td>\n",
       "      <td>Unknown</td>\n",
       "      <td>40299</td>\n",
       "      <td>Louisville Metro Fire Department</td>\n",
       "      <td>Provide premium pay for essential workers</td>\n",
       "      <td>No additional commentary</td>\n",
       "      <td>07-13-2021</td>\n",
       "    </tr>\n",
       "    <tr>\n",
       "      <th>696</th>\n",
       "      <td>684</td>\n",
       "      <td>Unknown</td>\n",
       "      <td>Unknown</td>\n",
       "      <td>Unknown</td>\n",
       "      <td>Unknown</td>\n",
       "      <td>40214</td>\n",
       "      <td>Fire Department</td>\n",
       "      <td>Provide premium pay for essential workers</td>\n",
       "      <td>No additional commentary</td>\n",
       "      <td>07-13-2021</td>\n",
       "    </tr>\n",
       "    <tr>\n",
       "      <th>703</th>\n",
       "      <td>691</td>\n",
       "      <td>Unknown</td>\n",
       "      <td>Unknown</td>\n",
       "      <td>Unknown</td>\n",
       "      <td>Unknown</td>\n",
       "      <td>40223</td>\n",
       "      <td>Louisville Fire department</td>\n",
       "      <td>Provide premium pay for essential workers</td>\n",
       "      <td>No additional commentary</td>\n",
       "      <td>07-13-2021</td>\n",
       "    </tr>\n",
       "    <tr>\n",
       "      <th>712</th>\n",
       "      <td>700</td>\n",
       "      <td>Vincent</td>\n",
       "      <td>Eisner</td>\n",
       "      <td>vincent.eisner@louisvilleky.gov</td>\n",
       "      <td>5028675309</td>\n",
       "      <td>40272</td>\n",
       "      <td>Louisville Fire Department</td>\n",
       "      <td>Provide premium pay for essential workers</td>\n",
       "      <td>No additional commentary</td>\n",
       "      <td>07-13-2021</td>\n",
       "    </tr>\n",
       "    <tr>\n",
       "      <th>713</th>\n",
       "      <td>701</td>\n",
       "      <td>Unknown</td>\n",
       "      <td>Unknown</td>\n",
       "      <td>Unknown</td>\n",
       "      <td>Unknown</td>\n",
       "      <td>40291</td>\n",
       "      <td>Fire department</td>\n",
       "      <td>Provide premium pay for essential workers</td>\n",
       "      <td>All essential workers worked through this pand...</td>\n",
       "      <td>07-13-2021</td>\n",
       "    </tr>\n",
       "    <tr>\n",
       "      <th>714</th>\n",
       "      <td>702</td>\n",
       "      <td>Unknown</td>\n",
       "      <td>Unknown</td>\n",
       "      <td>Unknown</td>\n",
       "      <td>Unknown</td>\n",
       "      <td>40243</td>\n",
       "      <td>Louisville Fire Department</td>\n",
       "      <td>Provide premium pay for essential workers</td>\n",
       "      <td>No additional commentary</td>\n",
       "      <td>07-13-2021</td>\n",
       "    </tr>\n",
       "    <tr>\n",
       "      <th>718</th>\n",
       "      <td>706</td>\n",
       "      <td>Unknown</td>\n",
       "      <td>Unknown</td>\n",
       "      <td>Unknown</td>\n",
       "      <td>Unknown</td>\n",
       "      <td>40023</td>\n",
       "      <td>Louisville Fire Depadttment</td>\n",
       "      <td>Provide premium pay for essential workers</td>\n",
       "      <td>No additional commentary</td>\n",
       "      <td>07-13-2021</td>\n",
       "    </tr>\n",
       "    <tr>\n",
       "      <th>720</th>\n",
       "      <td>708</td>\n",
       "      <td>Unknown</td>\n",
       "      <td>Unknown</td>\n",
       "      <td>Unknown</td>\n",
       "      <td>Unknown</td>\n",
       "      <td>42303</td>\n",
       "      <td>Louisville Fire</td>\n",
       "      <td>Provide premium pay for essential workers</td>\n",
       "      <td>Provide Covid premium pay for first responders.</td>\n",
       "      <td>07-13-2021</td>\n",
       "    </tr>\n",
       "    <tr>\n",
       "      <th>734</th>\n",
       "      <td>723</td>\n",
       "      <td>Unknown</td>\n",
       "      <td>Unknown</td>\n",
       "      <td>Unknown</td>\n",
       "      <td>Unknown</td>\n",
       "      <td>40047</td>\n",
       "      <td>Fire</td>\n",
       "      <td>Provide premium pay for essential workers</td>\n",
       "      <td>Take care of the front line workers that dilig...</td>\n",
       "      <td>07-13-2021</td>\n",
       "    </tr>\n",
       "    <tr>\n",
       "      <th>744</th>\n",
       "      <td>733</td>\n",
       "      <td>Amber</td>\n",
       "      <td>Miller</td>\n",
       "      <td>amber.miller@louisvilleky.gov</td>\n",
       "      <td>5028675309</td>\n",
       "      <td>40031</td>\n",
       "      <td>Louisville Fire and Reacue</td>\n",
       "      <td>Provide premium pay for essential workers</td>\n",
       "      <td>No additional commentary</td>\n",
       "      <td>07-13-2021</td>\n",
       "    </tr>\n",
       "    <tr>\n",
       "      <th>757</th>\n",
       "      <td>747</td>\n",
       "      <td>Unknown</td>\n",
       "      <td>Unknown</td>\n",
       "      <td>Unknown</td>\n",
       "      <td>Unknown</td>\n",
       "      <td>40214</td>\n",
       "      <td>Louisville Fire Department</td>\n",
       "      <td>Provide premium pay for essential workers</td>\n",
       "      <td>No additional commentary</td>\n",
       "      <td>07-14-2021</td>\n",
       "    </tr>\n",
       "    <tr>\n",
       "      <th>761</th>\n",
       "      <td>752</td>\n",
       "      <td>Unknown</td>\n",
       "      <td>Unknown</td>\n",
       "      <td>Unknown</td>\n",
       "      <td>Unknown</td>\n",
       "      <td>40047</td>\n",
       "      <td>Louisville Fire Dept</td>\n",
       "      <td>Provide premium pay for essential workers</td>\n",
       "      <td>No additional commentary</td>\n",
       "      <td>07-14-2021</td>\n",
       "    </tr>\n",
       "    <tr>\n",
       "      <th>779</th>\n",
       "      <td>778</td>\n",
       "      <td>Unknown</td>\n",
       "      <td>Unknown</td>\n",
       "      <td>Unknown</td>\n",
       "      <td>Unknown</td>\n",
       "      <td>40215</td>\n",
       "      <td>Louisville Fire</td>\n",
       "      <td>Provide premium pay for essential workers</td>\n",
       "      <td>Essential employees were on the frontlines for...</td>\n",
       "      <td>07-14-2021</td>\n",
       "    </tr>\n",
       "    <tr>\n",
       "      <th>792</th>\n",
       "      <td>792</td>\n",
       "      <td>Unknown</td>\n",
       "      <td>Unknown</td>\n",
       "      <td>Unknown</td>\n",
       "      <td>Unknown</td>\n",
       "      <td>40207</td>\n",
       "      <td>Louisville Fire Department</td>\n",
       "      <td>Provide premium pay for essential workers</td>\n",
       "      <td>No additional commentary</td>\n",
       "      <td>07-14-2021</td>\n",
       "    </tr>\n",
       "    <tr>\n",
       "      <th>812</th>\n",
       "      <td>817</td>\n",
       "      <td>Courtney</td>\n",
       "      <td>Cooper</td>\n",
       "      <td>courtney.cooper@louisvilleky.gov</td>\n",
       "      <td>5026414445</td>\n",
       "      <td>40245</td>\n",
       "      <td>Louisville Fire Department</td>\n",
       "      <td>Provide premium pay for essential workers</td>\n",
       "      <td>No additional commentary</td>\n",
       "      <td>07-14-2021</td>\n",
       "    </tr>\n",
       "    <tr>\n",
       "      <th>838</th>\n",
       "      <td>845</td>\n",
       "      <td>Nathan</td>\n",
       "      <td>Mulvey</td>\n",
       "      <td>nmulvey@ferncreekfire.com</td>\n",
       "      <td>5026571215</td>\n",
       "      <td>40291</td>\n",
       "      <td>Fern Creek Fire &amp; EMS</td>\n",
       "      <td>Provide premium pay for essential workers</td>\n",
       "      <td>No additional commentary</td>\n",
       "      <td>07-15-2021</td>\n",
       "    </tr>\n",
       "    <tr>\n",
       "      <th>839</th>\n",
       "      <td>850</td>\n",
       "      <td>Unknown</td>\n",
       "      <td>Unknown</td>\n",
       "      <td>Unknown</td>\n",
       "      <td>Unknown</td>\n",
       "      <td>40217</td>\n",
       "      <td>Louisville Division of Fire</td>\n",
       "      <td>Provide premium pay for essential workers</td>\n",
       "      <td>No additional commentary</td>\n",
       "      <td>07-15-2021</td>\n",
       "    </tr>\n",
       "    <tr>\n",
       "      <th>861</th>\n",
       "      <td>893</td>\n",
       "      <td>Cameron</td>\n",
       "      <td>Book</td>\n",
       "      <td>cameron.book@louisvilleky.gov</td>\n",
       "      <td>5022994461</td>\n",
       "      <td>40217</td>\n",
       "      <td>Louisville Fire and Rescue</td>\n",
       "      <td>Provide premium pay for essential workers</td>\n",
       "      <td>No additional commentary</td>\n",
       "      <td>07-16-2021</td>\n",
       "    </tr>\n",
       "    <tr>\n",
       "      <th>864</th>\n",
       "      <td>896</td>\n",
       "      <td>Unknown</td>\n",
       "      <td>Unknown</td>\n",
       "      <td>Unknown</td>\n",
       "      <td>Unknown</td>\n",
       "      <td>40215</td>\n",
       "      <td>Louisville Fire</td>\n",
       "      <td>Provide premium pay for essential workers</td>\n",
       "      <td>No additional commentary</td>\n",
       "      <td>07-16-2021</td>\n",
       "    </tr>\n",
       "    <tr>\n",
       "      <th>865</th>\n",
       "      <td>897</td>\n",
       "      <td>Unknown</td>\n",
       "      <td>Unknown</td>\n",
       "      <td>Unknown</td>\n",
       "      <td>Unknown</td>\n",
       "      <td>47136</td>\n",
       "      <td>Louisville Fire</td>\n",
       "      <td>Provide premium pay for essential workers</td>\n",
       "      <td>No additional commentary</td>\n",
       "      <td>07-16-2021</td>\n",
       "    </tr>\n",
       "    <tr>\n",
       "      <th>867</th>\n",
       "      <td>899</td>\n",
       "      <td>Christopher</td>\n",
       "      <td>Wahl</td>\n",
       "      <td>chris.wahl@louisvilleky.gov</td>\n",
       "      <td>5025938664</td>\n",
       "      <td>40242</td>\n",
       "      <td>Louisville Fire Department</td>\n",
       "      <td>Provide premium pay for essential workers</td>\n",
       "      <td>No additional commentary</td>\n",
       "      <td>07-16-2021</td>\n",
       "    </tr>\n",
       "    <tr>\n",
       "      <th>869</th>\n",
       "      <td>902</td>\n",
       "      <td>Patrick</td>\n",
       "      <td>Webber</td>\n",
       "      <td>patrick.webber@louisvilleky.gov</td>\n",
       "      <td>5028675309</td>\n",
       "      <td>47150</td>\n",
       "      <td>Louisville Fire</td>\n",
       "      <td>Provide premium pay for essential workers</td>\n",
       "      <td>No additional commentary</td>\n",
       "      <td>07-17-2021</td>\n",
       "    </tr>\n",
       "    <tr>\n",
       "      <th>955</th>\n",
       "      <td>1056</td>\n",
       "      <td>Jeff</td>\n",
       "      <td>Wiseman</td>\n",
       "      <td>jeffrey.wiseman@louisvilleky.gov</td>\n",
       "      <td>5028675309</td>\n",
       "      <td>40214</td>\n",
       "      <td>Louisville Fire and Rescue</td>\n",
       "      <td>Provide premium pay for essential workers</td>\n",
       "      <td>No additional commentary</td>\n",
       "      <td>07-22-2021</td>\n",
       "    </tr>\n",
       "    <tr>\n",
       "      <th>1003</th>\n",
       "      <td>1156</td>\n",
       "      <td>Unknown</td>\n",
       "      <td>Unknown</td>\n",
       "      <td>Unknown</td>\n",
       "      <td>Unknown</td>\n",
       "      <td>40207</td>\n",
       "      <td>City Fire</td>\n",
       "      <td>Provide premium pay for essential workers</td>\n",
       "      <td>Pay those who did the hard work and stuck by t...</td>\n",
       "      <td>07-25-2021</td>\n",
       "    </tr>\n",
       "    <tr>\n",
       "      <th>1269</th>\n",
       "      <td>664</td>\n",
       "      <td>Michael</td>\n",
       "      <td>Tobbe</td>\n",
       "      <td>michael.tobbe@louisvilleky.gov</td>\n",
       "      <td>5024942373</td>\n",
       "      <td>40202</td>\n",
       "      <td>Louisville Fire</td>\n",
       "      <td>Unidentified Benefit</td>\n",
       "      <td>Premium pay for essential employees</td>\n",
       "      <td>07-13-2021</td>\n",
       "    </tr>\n",
       "  </tbody>\n",
       "</table>\n",
       "</div>"
      ],
      "text/plain": [
       "      Entry Id          Name      Last                         Full Email  \\\n",
       "594        579       Unknown   Unknown                            Unknown   \n",
       "595        580       Unknown   Unknown                            Unknown   \n",
       "602        587       Unknown   Unknown                            Unknown   \n",
       "606        592       Unknown   Unknown                            Unknown   \n",
       "609        595        Donald      Sorg       donald.sorg@louisvilleky.gov   \n",
       "611        598       Unknown   Unknown                            Unknown   \n",
       "621        607     Geoffrey    McNulty  geoffrey.mcnulty@louisvilleky.gov   \n",
       "626        613        Tamara  Stewart     tamara.stewart@louisvilleky.gov   \n",
       "627        614         Erik   Sturgeon     erik.sturgeon@louisvilleky.gov   \n",
       "631        617        Jason    Sanders     jason.sanders@louisvilleky.gov   \n",
       "632        619       Unknown   Unknown                            Unknown   \n",
       "633        620       Unknown   Unknown                            Unknown   \n",
       "634        621       Unknown   Unknown                            Unknown   \n",
       "636        623          Gary     Haley        gary.haley@louisvilleky.gov   \n",
       "640        627       Unknown   Unknown                            Unknown   \n",
       "644        631       Unknown   Unknown                            Unknown   \n",
       "645        630       Unknown   Unknown                            Unknown   \n",
       "649        634       Unknown   Unknown                            Unknown   \n",
       "662        649       Unknown   Unknown                            Unknown   \n",
       "681        669       Griffin    Liford    wessley.liford@louisvilleky.gov   \n",
       "687        675       Unknown   Unknown                            Unknown   \n",
       "696        684       Unknown   Unknown                            Unknown   \n",
       "703        691       Unknown   Unknown                            Unknown   \n",
       "712        700      Vincent     Eisner    vincent.eisner@louisvilleky.gov   \n",
       "713        701       Unknown   Unknown                            Unknown   \n",
       "714        702       Unknown   Unknown                            Unknown   \n",
       "718        706       Unknown   Unknown                            Unknown   \n",
       "720        708       Unknown   Unknown                            Unknown   \n",
       "734        723       Unknown   Unknown                            Unknown   \n",
       "744        733         Amber    Miller      amber.miller@louisvilleky.gov   \n",
       "757        747       Unknown   Unknown                            Unknown   \n",
       "761        752       Unknown   Unknown                            Unknown   \n",
       "779        778       Unknown   Unknown                            Unknown   \n",
       "792        792       Unknown   Unknown                            Unknown   \n",
       "812        817     Courtney     Cooper   courtney.cooper@louisvilleky.gov   \n",
       "838        845        Nathan    Mulvey          nmulvey@ferncreekfire.com   \n",
       "839        850       Unknown   Unknown                            Unknown   \n",
       "861        893       Cameron      Book      cameron.book@louisvilleky.gov   \n",
       "864        896       Unknown   Unknown                            Unknown   \n",
       "865        897       Unknown   Unknown                            Unknown   \n",
       "867        899  Christopher       Wahl        chris.wahl@louisvilleky.gov   \n",
       "869        902       Patrick    Webber    patrick.webber@louisvilleky.gov   \n",
       "955       1056          Jeff   Wiseman   jeffrey.wiseman@louisvilleky.gov   \n",
       "1003      1156       Unknown   Unknown                            Unknown   \n",
       "1269       664       Michael     Tobbe     michael.tobbe@louisvilleky.gov   \n",
       "\n",
       "     Phone Number Zip Code                       Organization  \\\n",
       "594       Unknown    40228        Louisville Fire Department    \n",
       "595       Unknown    40214                               Fire   \n",
       "602       Unknown    40217        Louisville Division of Fire   \n",
       "606       Unknown    40203               Louisville Fire dept   \n",
       "609    5024579828    40023                               Fire   \n",
       "611       Unknown    40228           Louisville Fire & Rescue   \n",
       "621    5026497696    40214                    Louisville Fire   \n",
       "626    5027278831    40299        Louisville Division of Fire   \n",
       "627    5026093819    40223         Louisville Fire Department   \n",
       "631    5022964615    40214         Louisville Fire Department   \n",
       "632       Unknown    40299          Louisville Fire & Rescue    \n",
       "633       Unknown    40222         Louisville Fire and Rescue   \n",
       "634       Unknown    40245                    Louisville Fire   \n",
       "636    5028675309    40272        Louisville Fire Department    \n",
       "640       Unknown    40291        Louisville Fire Department    \n",
       "644       Unknown    40214           Louisville Firefighters    \n",
       "645       Unknown    40299                   Fire department    \n",
       "649       Unknown    40047                   Louisville Fire    \n",
       "662       Unknown    40299            Louisville Firefighter    \n",
       "681    5028173207    40031                    Louisville Fire   \n",
       "687       Unknown    40299  Louisville Metro Fire Department    \n",
       "696       Unknown    40214                   Fire Department    \n",
       "703       Unknown    40223         Louisville Fire department   \n",
       "712    5028675309    40272        Louisville Fire Department    \n",
       "713       Unknown    40291                    Fire department   \n",
       "714       Unknown    40243        Louisville Fire Department    \n",
       "718       Unknown    40023        Louisville Fire Depadttment   \n",
       "720       Unknown    42303                    Louisville Fire   \n",
       "734       Unknown    40047                               Fire   \n",
       "744    5028675309    40031         Louisville Fire and Reacue   \n",
       "757       Unknown    40214         Louisville Fire Department   \n",
       "761       Unknown    40047               Louisville Fire Dept   \n",
       "779       Unknown    40215                    Louisville Fire   \n",
       "792       Unknown    40207        Louisville Fire Department    \n",
       "812    5026414445    40245        Louisville Fire Department    \n",
       "838    5026571215    40291              Fern Creek Fire & EMS   \n",
       "839       Unknown    40217        Louisville Division of Fire   \n",
       "861    5022994461    40217        Louisville Fire and Rescue    \n",
       "864       Unknown    40215                    Louisville Fire   \n",
       "865       Unknown    47136                    Louisville Fire   \n",
       "867    5025938664    40242        Louisville Fire Department    \n",
       "869    5028675309    47150                    Louisville Fire   \n",
       "955    5028675309    40214         Louisville Fire and Rescue   \n",
       "1003      Unknown    40207                          City Fire   \n",
       "1269   5024942373    40202                    Louisville Fire   \n",
       "\n",
       "                                 Social Benefit  \\\n",
       "594   Provide premium pay for essential workers   \n",
       "595   Provide premium pay for essential workers   \n",
       "602   Provide premium pay for essential workers   \n",
       "606   Provide premium pay for essential workers   \n",
       "609   Provide premium pay for essential workers   \n",
       "611   Provide premium pay for essential workers   \n",
       "621   Provide premium pay for essential workers   \n",
       "626   Provide premium pay for essential workers   \n",
       "627   Provide premium pay for essential workers   \n",
       "631   Provide premium pay for essential workers   \n",
       "632   Provide premium pay for essential workers   \n",
       "633   Provide premium pay for essential workers   \n",
       "634   Provide premium pay for essential workers   \n",
       "636   Provide premium pay for essential workers   \n",
       "640   Provide premium pay for essential workers   \n",
       "644   Provide premium pay for essential workers   \n",
       "645   Provide premium pay for essential workers   \n",
       "649   Provide premium pay for essential workers   \n",
       "662   Provide premium pay for essential workers   \n",
       "681   Provide premium pay for essential workers   \n",
       "687   Provide premium pay for essential workers   \n",
       "696   Provide premium pay for essential workers   \n",
       "703   Provide premium pay for essential workers   \n",
       "712   Provide premium pay for essential workers   \n",
       "713   Provide premium pay for essential workers   \n",
       "714   Provide premium pay for essential workers   \n",
       "718   Provide premium pay for essential workers   \n",
       "720   Provide premium pay for essential workers   \n",
       "734   Provide premium pay for essential workers   \n",
       "744   Provide premium pay for essential workers   \n",
       "757   Provide premium pay for essential workers   \n",
       "761   Provide premium pay for essential workers   \n",
       "779   Provide premium pay for essential workers   \n",
       "792   Provide premium pay for essential workers   \n",
       "812   Provide premium pay for essential workers   \n",
       "838   Provide premium pay for essential workers   \n",
       "839   Provide premium pay for essential workers   \n",
       "861   Provide premium pay for essential workers   \n",
       "864   Provide premium pay for essential workers   \n",
       "865   Provide premium pay for essential workers   \n",
       "867   Provide premium pay for essential workers   \n",
       "869   Provide premium pay for essential workers   \n",
       "955   Provide premium pay for essential workers   \n",
       "1003  Provide premium pay for essential workers   \n",
       "1269                       Unidentified Benefit   \n",
       "\n",
       "                                              Comments: Date Created  \n",
       "594                            No additional commentary   07-13-2021  \n",
       "595   Please provide premium pay for essential worke...   07-13-2021  \n",
       "602                            No additional commentary   07-13-2021  \n",
       "606                            No additional commentary   07-13-2021  \n",
       "609                            No additional commentary   07-13-2021  \n",
       "611                            No additional commentary   07-13-2021  \n",
       "621                            No additional commentary   07-13-2021  \n",
       "626                            No additional commentary   07-13-2021  \n",
       "627                            No additional commentary   07-13-2021  \n",
       "631                            No additional commentary   07-13-2021  \n",
       "632                            No additional commentary   07-13-2021  \n",
       "633                            No additional commentary   07-13-2021  \n",
       "634                            No additional commentary   07-13-2021  \n",
       "636                            No additional commentary   07-13-2021  \n",
       "640                            No additional commentary   07-13-2021  \n",
       "644   While most of the population was home, firefig...   07-13-2021  \n",
       "645                            No additional commentary   07-13-2021  \n",
       "649                            No additional commentary   07-13-2021  \n",
       "662                            No additional commentary   07-13-2021  \n",
       "681                            No additional commentary   07-13-2021  \n",
       "687                            No additional commentary   07-13-2021  \n",
       "696                            No additional commentary   07-13-2021  \n",
       "703                            No additional commentary   07-13-2021  \n",
       "712                            No additional commentary   07-13-2021  \n",
       "713   All essential workers worked through this pand...   07-13-2021  \n",
       "714                            No additional commentary   07-13-2021  \n",
       "718                            No additional commentary   07-13-2021  \n",
       "720     Provide Covid premium pay for first responders.   07-13-2021  \n",
       "734   Take care of the front line workers that dilig...   07-13-2021  \n",
       "744                            No additional commentary   07-13-2021  \n",
       "757                            No additional commentary   07-14-2021  \n",
       "761                            No additional commentary   07-14-2021  \n",
       "779   Essential employees were on the frontlines for...   07-14-2021  \n",
       "792                            No additional commentary   07-14-2021  \n",
       "812                            No additional commentary   07-14-2021  \n",
       "838                            No additional commentary   07-15-2021  \n",
       "839                            No additional commentary   07-15-2021  \n",
       "861                            No additional commentary   07-16-2021  \n",
       "864                            No additional commentary   07-16-2021  \n",
       "865                            No additional commentary   07-16-2021  \n",
       "867                            No additional commentary   07-16-2021  \n",
       "869                            No additional commentary   07-17-2021  \n",
       "955                            No additional commentary   07-22-2021  \n",
       "1003  Pay those who did the hard work and stuck by t...   07-25-2021  \n",
       "1269               Premium pay for essential employees    07-13-2021  "
      ]
     },
     "execution_count": 212,
     "metadata": {},
     "output_type": "execute_result"
    }
   ],
   "source": [
    "# Print every row in the DataFrame where the Organization column contains the substring 'Fire'\n",
    "df[df['Organization'].str.contains('Fire')]"
   ]
  },
  {
   "cell_type": "code",
   "execution_count": 213,
   "id": "97795418",
   "metadata": {},
   "outputs": [],
   "source": [
    "# Coerce values in the column relevant to the fire department to a common value\n",
    "# I can then refresh the bar chart and note that all these categories have moved into one bar\n",
    "for i in df[(df['Organization'].str.contains('Fire')) | (df['Organization'] == 'LFD') | (df['Organization'] == 'Louisville fire')].index:\n",
    "    df.loc[i, 'Organization'] = 'Louisville Fire Department'"
   ]
  },
  {
   "cell_type": "code",
   "execution_count": 214,
   "id": "d4e7503c",
   "metadata": {},
   "outputs": [
    {
     "data": {
      "image/png": "[encoded data removed]",
      "text/plain": [
       "<Figure size 640x480 with 1 Axes>"
      ]
     },
     "metadata": {},
     "output_type": "display_data"
    }
   ],
   "source": [
    "# Answer the What!\n",
    "\n",
    "# Define pie chart to show what the ARP funding is being allocated for\n",
    "ax = df.groupby('Social Benefit')['Entry Id'].count().sort_values().plot(kind='pie', autopct='%1.1f%%', explode=[0.05, 0.05, 0.05, 0.05, 0.05, 0.05], \n",
    "                                                           colors = sns.color_palette('bright'))\n",
    "ax.yaxis.set_visible(False)\n",
    "colors = sns.color_palette('dark')\n",
    "plt.show()"
   ]
  },
  {
   "cell_type": "code",
   "execution_count": 215,
   "id": "573a8435",
   "metadata": {},
   "outputs": [
    {
     "data": {
      "text/plain": [
       "<Axes: xlabel='Date Created'>"
      ]
     },
     "execution_count": 215,
     "metadata": {},
     "output_type": "execute_result"
    },
    {
     "data": {
      "image/png": "[encoded data removed]",
      "text/plain": [
       "<Figure size 640x480 with 1 Axes>"
      ]
     },
     "metadata": {},
     "output_type": "display_data"
    }
   ],
   "source": [
    "# Answer the When! \n",
    "\n",
    "# Convert the Date Created column from a string type to a datetime\n",
    "df['Date Created'] = pd.to_datetime(df['Date Created'])\n",
    "\n",
    "# Define the Matplotlib line chart to show the frequency of when ARP applications were filed\n",
    "df.groupby('Date Created')['Entry Id'].count().plot(grid=True)"
   ]
  },
  {
   "cell_type": "code",
   "execution_count": 216,
   "id": "fe62a837",
   "metadata": {},
   "outputs": [],
   "source": [
    "# Answer the Where! \n",
    "\n",
    "# from urllib.request import urlopen\n",
    "# import json\n",
    "\n",
    "# # Grab raw zip code to lat/lon mappings from Github and parse them to json\n",
    "\n",
    "# with urlopen('https://raw.githubusercontent.com/OpenDataDE/State-zip-code-GeoJSON/master/ky_kentucky_zip_codes_geo.min.json') as response:\n",
    "#     zipcodes = json.load(response)"
   ]
  },
  {
   "cell_type": "code",
   "execution_count": 217,
   "id": "3f66a3fa",
   "metadata": {},
   "outputs": [],
   "source": [
    "# Create choropleth map showing the frequency of ARP applications for each zip code\n",
    "# fig = px.choropleth(pd.DataFrame(df['Zip Code'].value_counts()).reset_index(),\n",
    "#                   geojson=zipcodes,\n",
    "#                   locations='Zip Code',\n",
    "#                   color='count',\n",
    "#                   color_continuous_scale='blues',\n",
    "#                   featureidkey='properties.ZCTA5CE10')\n",
    "\n",
    "# fig.update_geos(fitbounds=\"locations\", visible=False)\n",
    "\n",
    "# fig.update_layout(title='Frequency of Louisville ARP applications by Zip Code')\n",
    "\n",
    "# fig.show()"
   ]
  },
  {
   "cell_type": "code",
   "execution_count": 218,
   "id": "03feef9f",
   "metadata": {},
   "outputs": [],
   "source": [
    "# Save the file to a .svg image to be read into a markdown cell in an img tag.\n",
    "# fig.write_image('choropleth.svg')"
   ]
  },
  {
   "cell_type": "markdown",
   "id": "5c93fb20",
   "metadata": {},
   "source": [
    "<img src='choropleth.svg'>"
   ]
  },
  {
   "cell_type": "code",
   "execution_count": 219,
   "id": "38d88043",
   "metadata": {},
   "outputs": [],
   "source": [
    "from wordcloud import WordCloud"
   ]
  },
  {
   "cell_type": "code",
   "execution_count": 220,
   "id": "cae9509b",
   "metadata": {},
   "outputs": [],
   "source": [
    "# Read our comments column, excluding the value we coerced the nulls to into one string\n",
    "cloud = \"\".join(df[df['Comments:'] != 'No additional commentary']['Comments:'].astype(str))\n",
    "# Remove the carriage return\n",
    "cloud = cloud.replace(\"_x000D_\", \"\")"
   ]
  },
  {
   "cell_type": "code",
   "execution_count": 221,
   "id": "43669e4a",
   "metadata": {},
   "outputs": [
    {
     "data": {
      "image/png": "[encoded data removed]",
      "text/plain": [
       "<Figure size 1200x1000 with 1 Axes>"
      ]
     },
     "metadata": {},
     "output_type": "display_data"
    }
   ],
   "source": [
    "# Answer the Why! \n",
    "\n",
    "# Create a word cloud showing the frequency of given words in the Comments: column\n",
    "wordcloud = WordCloud().generate(cloud)\n",
    "\n",
    "plt.figure(figsize=(12, 10))\n",
    "\n",
    "plt.imshow(wordcloud)\n",
    "\n",
    "plt.axis(\"off\")\n",
    "plt.show()"
   ]
  }
 ],
 "metadata": {
  "kernelspec": {
   "display_name": "Python 3",
   "language": "python",
   "name": "python3"
  },
  "language_info": {
   "codemirror_mode": {
    "name": "ipython",
    "version": 3
   },
   "file_extension": ".py",
   "mimetype": "text/x-python",
   "name": "python",
   "nbconvert_exporter": "python",
   "pygments_lexer": "ipython3",
   "version": "3.13.7"
  }
 },
 "nbformat": 4,
 "nbformat_minor": 5
}
